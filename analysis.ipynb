{
 "cells": [
  {
   "cell_type": "code",
   "execution_count": 20,
   "metadata": {},
   "outputs": [
    {
     "output_type": "stream",
     "name": "stdout",
     "text": "The autoreload extension is already loaded. To reload it, use:\n  %reload_ext autoreload\n"
    }
   ],
   "source": [
    "### Before we submit, review which modules we actually use !!!\n",
    "\n",
    "%load_ext autoreload\n",
    "%autoreload 2\n",
    "\n",
    "import warnings\n",
    "import calendar\n",
    "\n",
    "import pandas as pd\n",
    "import numpy as np\n",
    "import seaborn as sns\n",
    "import geopandas as gpd\n",
    "import matplotlib.pyplot as plt\n",
    "import matplotlib.pylab as pltlab\n",
    "\n",
    "from sklearn.preprocessing import PolynomialFeatures\n",
    "from sklearn.linear_model import Ridge, Lasso, LinearRegression, ElasticNet\n",
    "from sklearn.pipeline import Pipeline\n",
    "from sklearn.metrics import mean_squared_error, r2_score\n",
    "from sklearn.model_selection import GridSearchCV, train_test_split\n",
    "\n",
    "import pipeline as pipe\n",
    "pd.set_option('display.max_columns', None)\n",
    "\n",
    "warnings.filterwarnings('ignore')\n",
    "%matplotlib inline\n",
    "sns.set(rc={'figure.figsize':(11, 4)})"
   ]
  },
  {
   "cell_type": "markdown",
   "metadata": {},
   "source": [
    "# Data Import & Exploration"
   ]
  },
  {
   "cell_type": "code",
   "execution_count": 2,
   "metadata": {},
   "outputs": [],
   "source": [
    "data = pd.read_pickle('data/final_dataset.pk1')"
   ]
  },
  {
   "cell_type": "code",
   "execution_count": 3,
   "metadata": {},
   "outputs": [
    {
     "output_type": "stream",
     "name": "stdout",
     "text": "Number of outliers found: 0\nOutlier values found: []\n"
    },
    {
     "output_type": "execute_result",
     "data": {
      "text/plain": "Empty DataFrame\nColumns: [name, total_pop, median_income, state, county, county_name, state_name, prop_white, prop_black, prop_hisp, log_med_income, prop_no_internet, prop_ba, prop_services, pop_density, FIPS, covid_cases, Testing_Rate, gov_party, election_diff, Apr-19, Mar-19, Feb-20, Mar-20, days_closed, yearly_change, monthly_change]\nIndex: []",
      "text/html": "<div>\n<style scoped>\n    .dataframe tbody tr th:only-of-type {\n        vertical-align: middle;\n    }\n\n    .dataframe tbody tr th {\n        vertical-align: top;\n    }\n\n    .dataframe thead th {\n        text-align: right;\n    }\n</style>\n<table border=\"1\" class=\"dataframe\">\n  <thead>\n    <tr style=\"text-align: right;\">\n      <th></th>\n      <th>name</th>\n      <th>total_pop</th>\n      <th>median_income</th>\n      <th>state</th>\n      <th>county</th>\n      <th>county_name</th>\n      <th>state_name</th>\n      <th>prop_white</th>\n      <th>prop_black</th>\n      <th>prop_hisp</th>\n      <th>log_med_income</th>\n      <th>prop_no_internet</th>\n      <th>prop_ba</th>\n      <th>prop_services</th>\n      <th>pop_density</th>\n      <th>FIPS</th>\n      <th>covid_cases</th>\n      <th>Testing_Rate</th>\n      <th>gov_party</th>\n      <th>election_diff</th>\n      <th>Apr-19</th>\n      <th>Mar-19</th>\n      <th>Feb-20</th>\n      <th>Mar-20</th>\n      <th>days_closed</th>\n      <th>yearly_change</th>\n      <th>monthly_change</th>\n    </tr>\n  </thead>\n  <tbody>\n  </tbody>\n</table>\n</div>"
     },
     "metadata": {},
     "execution_count": 3
    }
   ],
   "source": [
    "pipe.find_outliers(data, 'median_income', 0, 10000000)"
   ]
  },
  {
   "cell_type": "code",
   "execution_count": 4,
   "metadata": {},
   "outputs": [
    {
     "output_type": "execute_result",
     "data": {
      "text/plain": "                             name  total_pop  median_income state county  \\\n0  Washington County, Mississippi      47086        30834.0    28    151   \n1       Perry County, Mississippi      12028        39007.0    28    111   \n2     Choctaw County, Mississippi       8321        37203.0    28    019   \n3    Itawamba County, Mississippi      23480        40510.0    28    057   \n4     Carroll County, Mississippi      10129        43060.0    28    015   \n\n  county_name   state_name  prop_white  prop_black  prop_hisp  log_med_income  \\\n0  Washington  Mississippi    0.256913    0.721701   0.015482       10.336373   \n1       Perry  Mississippi    0.787745    0.196874   0.015048       10.571496   \n2     Choctaw  Mississippi    0.676722    0.311982   0.003966       10.524145   \n3    Itawamba  Mississippi    0.909114    0.071593   0.015332       10.609304   \n4     Carroll  Mississippi    0.643992    0.345839   0.002863       10.670350   \n\n   prop_no_internet   prop_ba  prop_services  pop_density     FIPS  \\\n0          0.336958  0.187937       0.100274    62.178441  28151.0   \n1          0.310103  0.109539       0.078850    18.434583  28111.0   \n2          0.368837  0.176582       0.014207    19.794546  28019.0   \n3          0.226281  0.134468       0.057524    44.138916  28057.0   \n4          0.332969  0.145006       0.057415    15.774563  28015.0   \n\n   covid_cases  Testing_Rate  gov_party  election_diff  Apr-19  Mar-19  \\\n0           77   2291.374085          1      -0.364695     6.4     7.5   \n1           27   2291.374085          1       0.536635     5.7     6.2   \n2           13   2291.374085          1       0.386224     4.8     5.3   \n3           57   2291.374085          1       0.755161     4.1     4.4   \n4           38   2291.374085          1       0.383321     5.5     5.8   \n\n   Feb-20  Mar-20  days_closed  yearly_change  monthly_change  \n0     7.4     7.0         17.0      -0.066667       -0.054054  \n1     6.8     6.3         17.0       0.016129       -0.073529  \n2     5.4     5.0         17.0      -0.056604       -0.074074  \n3     4.7     4.7         17.0       0.068182        0.000000  \n4     6.2     6.0         17.0       0.034483       -0.032258  ",
      "text/html": "<div>\n<style scoped>\n    .dataframe tbody tr th:only-of-type {\n        vertical-align: middle;\n    }\n\n    .dataframe tbody tr th {\n        vertical-align: top;\n    }\n\n    .dataframe thead th {\n        text-align: right;\n    }\n</style>\n<table border=\"1\" class=\"dataframe\">\n  <thead>\n    <tr style=\"text-align: right;\">\n      <th></th>\n      <th>name</th>\n      <th>total_pop</th>\n      <th>median_income</th>\n      <th>state</th>\n      <th>county</th>\n      <th>county_name</th>\n      <th>state_name</th>\n      <th>prop_white</th>\n      <th>prop_black</th>\n      <th>prop_hisp</th>\n      <th>log_med_income</th>\n      <th>prop_no_internet</th>\n      <th>prop_ba</th>\n      <th>prop_services</th>\n      <th>pop_density</th>\n      <th>FIPS</th>\n      <th>covid_cases</th>\n      <th>Testing_Rate</th>\n      <th>gov_party</th>\n      <th>election_diff</th>\n      <th>Apr-19</th>\n      <th>Mar-19</th>\n      <th>Feb-20</th>\n      <th>Mar-20</th>\n      <th>days_closed</th>\n      <th>yearly_change</th>\n      <th>monthly_change</th>\n    </tr>\n  </thead>\n  <tbody>\n    <tr>\n      <th>0</th>\n      <td>Washington County, Mississippi</td>\n      <td>47086</td>\n      <td>30834.0</td>\n      <td>28</td>\n      <td>151</td>\n      <td>Washington</td>\n      <td>Mississippi</td>\n      <td>0.256913</td>\n      <td>0.721701</td>\n      <td>0.015482</td>\n      <td>10.336373</td>\n      <td>0.336958</td>\n      <td>0.187937</td>\n      <td>0.100274</td>\n      <td>62.178441</td>\n      <td>28151.0</td>\n      <td>77</td>\n      <td>2291.374085</td>\n      <td>1</td>\n      <td>-0.364695</td>\n      <td>6.4</td>\n      <td>7.5</td>\n      <td>7.4</td>\n      <td>7.0</td>\n      <td>17.0</td>\n      <td>-0.066667</td>\n      <td>-0.054054</td>\n    </tr>\n    <tr>\n      <th>1</th>\n      <td>Perry County, Mississippi</td>\n      <td>12028</td>\n      <td>39007.0</td>\n      <td>28</td>\n      <td>111</td>\n      <td>Perry</td>\n      <td>Mississippi</td>\n      <td>0.787745</td>\n      <td>0.196874</td>\n      <td>0.015048</td>\n      <td>10.571496</td>\n      <td>0.310103</td>\n      <td>0.109539</td>\n      <td>0.078850</td>\n      <td>18.434583</td>\n      <td>28111.0</td>\n      <td>27</td>\n      <td>2291.374085</td>\n      <td>1</td>\n      <td>0.536635</td>\n      <td>5.7</td>\n      <td>6.2</td>\n      <td>6.8</td>\n      <td>6.3</td>\n      <td>17.0</td>\n      <td>0.016129</td>\n      <td>-0.073529</td>\n    </tr>\n    <tr>\n      <th>2</th>\n      <td>Choctaw County, Mississippi</td>\n      <td>8321</td>\n      <td>37203.0</td>\n      <td>28</td>\n      <td>019</td>\n      <td>Choctaw</td>\n      <td>Mississippi</td>\n      <td>0.676722</td>\n      <td>0.311982</td>\n      <td>0.003966</td>\n      <td>10.524145</td>\n      <td>0.368837</td>\n      <td>0.176582</td>\n      <td>0.014207</td>\n      <td>19.794546</td>\n      <td>28019.0</td>\n      <td>13</td>\n      <td>2291.374085</td>\n      <td>1</td>\n      <td>0.386224</td>\n      <td>4.8</td>\n      <td>5.3</td>\n      <td>5.4</td>\n      <td>5.0</td>\n      <td>17.0</td>\n      <td>-0.056604</td>\n      <td>-0.074074</td>\n    </tr>\n    <tr>\n      <th>3</th>\n      <td>Itawamba County, Mississippi</td>\n      <td>23480</td>\n      <td>40510.0</td>\n      <td>28</td>\n      <td>057</td>\n      <td>Itawamba</td>\n      <td>Mississippi</td>\n      <td>0.909114</td>\n      <td>0.071593</td>\n      <td>0.015332</td>\n      <td>10.609304</td>\n      <td>0.226281</td>\n      <td>0.134468</td>\n      <td>0.057524</td>\n      <td>44.138916</td>\n      <td>28057.0</td>\n      <td>57</td>\n      <td>2291.374085</td>\n      <td>1</td>\n      <td>0.755161</td>\n      <td>4.1</td>\n      <td>4.4</td>\n      <td>4.7</td>\n      <td>4.7</td>\n      <td>17.0</td>\n      <td>0.068182</td>\n      <td>0.000000</td>\n    </tr>\n    <tr>\n      <th>4</th>\n      <td>Carroll County, Mississippi</td>\n      <td>10129</td>\n      <td>43060.0</td>\n      <td>28</td>\n      <td>015</td>\n      <td>Carroll</td>\n      <td>Mississippi</td>\n      <td>0.643992</td>\n      <td>0.345839</td>\n      <td>0.002863</td>\n      <td>10.670350</td>\n      <td>0.332969</td>\n      <td>0.145006</td>\n      <td>0.057415</td>\n      <td>15.774563</td>\n      <td>28015.0</td>\n      <td>38</td>\n      <td>2291.374085</td>\n      <td>1</td>\n      <td>0.383321</td>\n      <td>5.5</td>\n      <td>5.8</td>\n      <td>6.2</td>\n      <td>6.0</td>\n      <td>17.0</td>\n      <td>0.034483</td>\n      <td>-0.032258</td>\n    </tr>\n  </tbody>\n</table>\n</div>"
     },
     "metadata": {},
     "execution_count": 4
    }
   ],
   "source": [
    "data.head()"
   ]
  },
  {
   "cell_type": "code",
   "execution_count": 5,
   "metadata": {},
   "outputs": [
    {
     "output_type": "stream",
     "name": "stdout",
     "text": "total_pop  median_income   prop_white   prop_black    prop_hisp  \\\ncount  2.826000e+03    2825.000000  2826.000000  2826.000000  2826.000000   \nmean   1.117590e+05   51714.241416     0.827329     0.098748     0.091962   \nstd    3.414925e+05   13821.224638     0.164131     0.149708     0.135249   \nmin    4.180000e+02   20188.000000     0.093534     0.000000     0.000000   \n25%    1.412200e+04   42491.000000     0.757614     0.008110     0.021500   \n50%    3.013550e+04   49936.000000     0.889050     0.028182     0.041568   \n75%    7.725500e+04   57886.000000     0.947572     0.117748     0.095686   \nmax    1.009805e+07  136268.000000     0.997743     0.874123     0.990688   \n\n       log_med_income  prop_no_internet      prop_ba  prop_services  \\\ncount     2825.000000       2826.000000  2826.000000    2825.000000   \nmean        10.821023          0.225514     0.217787       0.083571   \nstd          0.251809          0.086132     0.096556       0.034479   \nmin          9.912844          0.027967     0.053803       0.000000   \n25%         10.657048          0.165563     0.149494       0.062781   \n50%         10.818497          0.214964     0.192582       0.079282   \n75%         10.966231          0.274592     0.261927       0.097530   \nmax         11.822379          0.684243     0.785314       0.387533   \n\n        pop_density          FIPS    covid_cases  Testing_Rate    gov_party  \\\ncount   2826.000000   2826.000000    2826.000000   2826.000000  2826.000000   \nmean     267.786693  30331.863765     375.589526   1890.819417     0.556263   \nstd     1596.216056  15162.372200    3598.993772    859.761925     0.496912   \nmin        0.308166   1001.000000       0.000000    986.245241     0.000000   \n25%       22.683588  18137.500000       6.000000   1369.571514     0.000000   \n50%       51.470442  29104.000000      23.000000   1594.896734     1.000000   \n75%      138.178441  45050.500000      98.000000   2262.597463     1.000000   \nmax    71886.166433  56043.000000  167478.000000   6014.002781     1.000000   \n\n       election_diff       Apr-19       Mar-19       Feb-20       Mar-20  \\\ncount    2826.000000  2826.000000  2826.000000  2826.000000  2826.000000   \nmean        0.296498     3.617127     4.353255     4.314260     4.845683   \nstd         0.304117     1.348881     1.576551     1.685408     1.879948   \nmin        -0.867763     1.200000     1.300000     1.400000     1.300000   \n25%         0.128959     2.700000     3.300000     3.200000     3.600000   \n50%         0.360888     3.300000     4.000000     3.900000     4.500000   \n75%         0.523936     4.200000     5.000000     5.000000     5.700000   \nmax         0.909747    15.700000    20.600000    19.800000    22.400000   \n\n       days_closed  yearly_change  monthly_change  \ncount  2826.000000    2826.000000     2826.000000  \nmean     21.397028       0.125639        0.137390  \nstd       7.934255       0.232861        0.187900  \nmin       0.000000      -0.468750       -0.346154  \n25%      19.000000      -0.050000       -0.015565  \n50%      23.000000       0.109091        0.132704  \n75%      27.000000       0.282051        0.255319  \nmax      33.000000       1.187500        1.466667  \n                  total_pop  median_income  prop_white  prop_black  prop_hisp  \\\ntotal_pop          1.000000       0.269932   -0.186771    0.056704   0.210049   \nmedian_income      0.269932       1.000000    0.166882   -0.284362   0.069853   \nprop_white        -0.186771       0.166882    1.000000   -0.857407  -0.066447   \nprop_black         0.056704      -0.284362   -0.857407    1.000000  -0.121514   \nprop_hisp          0.210049       0.069853   -0.066447   -0.121514   1.000000   \nlog_med_income     0.256607       0.978473    0.241223   -0.351276   0.064081   \nprop_no_internet  -0.263802      -0.759246   -0.298780    0.375591  -0.019595   \nprop_ba            0.331352       0.714795   -0.002856   -0.104907   0.008376   \nprop_services      0.126641       0.075720   -0.105423   -0.041102   0.115680   \npop_density        0.280445       0.192239   -0.147036    0.075488   0.069477   \nFIPS              -0.059449       0.089720    0.109872   -0.136054   0.072019   \ncovid_cases        0.367850       0.157046   -0.101382    0.039934   0.079770   \nTesting_Rate       0.032034       0.053950    0.001674   -0.023833  -0.069292   \ngov_party         -0.061390      -0.159998   -0.075027    0.124429   0.022418   \nelection_diff     -0.342477      -0.194611    0.570168   -0.451889  -0.186385   \nApr-19            -0.061286      -0.389038   -0.178933    0.153742   0.018728   \nMar-19            -0.078955      -0.365438   -0.099197    0.095445  -0.021353   \nFeb-20            -0.088136      -0.387935   -0.087442    0.097116  -0.011514   \nMar-20            -0.040744      -0.392381   -0.107482    0.126215   0.101617   \ndays_closed        0.159802       0.142472    0.064474   -0.081072   0.079148   \nyearly_change      0.058426      -0.073891   -0.018877    0.055019   0.239693   \nmonthly_change     0.132431       0.022212   -0.049266    0.070328   0.266243   \n\n                  log_med_income  prop_no_internet   prop_ba  prop_services  \\\ntotal_pop               0.256607         -0.263802  0.331352       0.126641   \nmedian_income           0.978473         -0.759246  0.714795       0.075720   \nprop_white              0.241223         -0.298780 -0.002856      -0.105423   \nprop_black             -0.351276          0.375591 -0.104907      -0.041102   \nprop_hisp               0.064081         -0.019595  0.008376       0.115680   \nlog_med_income          1.000000         -0.803758  0.684522       0.085852   \nprop_no_internet       -0.803758          1.000000 -0.705181      -0.247512   \nprop_ba                 0.684522         -0.705181  1.000000       0.336952   \nprop_services           0.085852         -0.247512  0.336952       1.000000   \npop_density             0.168713         -0.142951  0.277017       0.067329   \nFIPS                    0.103823         -0.057855  0.040001      -0.000470   \ncovid_cases             0.138569         -0.096465  0.189062       0.031413   \nTesting_Rate            0.040422         -0.003609  0.071333       0.047514   \ngov_party              -0.159384          0.184097 -0.184716      -0.138580   \nelection_diff          -0.138177          0.158552 -0.481903      -0.327102   \nApr-19                 -0.418828          0.333119 -0.301104       0.098300   \nMar-19                 -0.386143          0.298914 -0.315933       0.067128   \nFeb-20                 -0.416663          0.350176 -0.354602       0.036231   \nMar-20                 -0.426781          0.354360 -0.345967       0.048970   \ndays_closed             0.143540         -0.181263  0.122913       0.155218   \nyearly_change          -0.094830          0.109972 -0.079168       0.021806   \nmonthly_change          0.008683         -0.027905  0.064808       0.088435   \n\n                  pop_density      FIPS  covid_cases  Testing_Rate  gov_party  \\\ntotal_pop            0.280445 -0.059449     0.367850      0.032034  -0.061390   \nmedian_income        0.192239  0.089720     0.157046      0.053950  -0.159998   \nprop_white          -0.147036  0.109872    -0.101382      0.001674  -0.075027   \nprop_black           0.075488 -0.136054     0.039934     -0.023833   0.124429   \nprop_hisp            0.069477  0.072019     0.079770     -0.069292   0.022418   \nlog_med_income       0.168713  0.103823     0.138569      0.040422  -0.159384   \nprop_no_internet    -0.142951 -0.057855    -0.096465     -0.003609   0.184097   \nprop_ba              0.277017  0.040001     0.189062      0.071333  -0.184716   \nprop_services        0.067329 -0.000470     0.031413      0.047514  -0.138580   \npop_density          1.000000  0.022508     0.859531      0.076038  -0.072011   \nFIPS                 0.022508  1.000000    -0.005803      0.076656  -0.022870   \ncovid_cases          0.859531 -0.005803     1.000000      0.153045  -0.060156   \nTesting_Rate         0.076038  0.076656     0.153045      1.000000  -0.088568   \ngov_party           -0.072011 -0.022870    -0.060156     -0.088568   1.000000   \nelection_diff       -0.266528  0.043857    -0.185643     -0.088269   0.218061   \nApr-19              -0.059434 -0.015713    -0.026977      0.188780  -0.201594   \nMar-19              -0.065701 -0.021934    -0.033379      0.153330  -0.237907   \nFeb-20              -0.073067  0.071963    -0.037439      0.160368  -0.147306   \nMar-20              -0.058614 -0.025181    -0.028655      0.100100  -0.132516   \ndays_closed          0.077427 -0.018871     0.077647      0.039961  -0.504145   \nyearly_change       -0.000954 -0.008821     0.000355     -0.089299   0.142408   \nmonthly_change       0.042683 -0.207025     0.028374     -0.161837   0.046671   \n\n                  election_diff    Apr-19    Mar-19    Feb-20    Mar-20  \\\ntotal_pop             -0.342477 -0.061286 -0.078955 -0.088136 -0.040744   \nmedian_income         -0.194611 -0.389038 -0.365438 -0.387935 -0.392381   \nprop_white             0.570168 -0.178933 -0.099197 -0.087442 -0.107482   \nprop_black            -0.451889  0.153742  0.095445  0.097116  0.126215   \nprop_hisp             -0.186385  0.018728 -0.021353 -0.011514  0.101617   \nlog_med_income        -0.138177 -0.418828 -0.386143 -0.416663 -0.426781   \nprop_no_internet       0.158552  0.333119  0.298914  0.350176  0.354360   \nprop_ba               -0.481903 -0.301104 -0.315933 -0.354602 -0.345967   \nprop_services         -0.327102  0.098300  0.067128  0.036231  0.048970   \npop_density           -0.266528 -0.059434 -0.065701 -0.073067 -0.058614   \nFIPS                   0.043857 -0.015713 -0.021934  0.071963 -0.025181   \ncovid_cases           -0.185643 -0.026977 -0.033379 -0.037439 -0.028655   \nTesting_Rate          -0.088269  0.188780  0.153330  0.160368  0.100100   \ngov_party              0.218061 -0.201594 -0.237907 -0.147306 -0.132516   \nelection_diff          1.000000 -0.139971 -0.103668 -0.062423 -0.054385   \nApr-19                -0.139971  1.000000  0.950916  0.890895  0.829507   \nMar-19                -0.103668  0.950916  1.000000  0.915003  0.824815   \nFeb-20                -0.062423  0.890895  0.915003  1.000000  0.912574   \nMar-20                -0.054385  0.829507  0.824815  0.912574  1.000000   \ndays_closed           -0.227868  0.162987  0.223675  0.162969  0.154499   \nyearly_change          0.075013 -0.070715 -0.148534  0.103918  0.401967   \nmonthly_change        -0.002324 -0.138975 -0.200006 -0.193674  0.195253   \n\n                  days_closed  yearly_change  monthly_change  \ntotal_pop            0.159802       0.058426        0.132431  \nmedian_income        0.142472      -0.073891        0.022212  \nprop_white           0.064474      -0.018877       -0.049266  \nprop_black          -0.081072       0.055019        0.070328  \nprop_hisp            0.079148       0.239693        0.266243  \nlog_med_income       0.143540      -0.094830        0.008683  \nprop_no_internet    -0.181263       0.109972       -0.027905  \nprop_ba              0.122913      -0.079168        0.064808  \nprop_services        0.155218       0.021806        0.088435  \npop_density          0.077427      -0.000954        0.042683  \nFIPS                -0.018871      -0.008821       -0.207025  \ncovid_cases          0.077647       0.000355        0.028374  \nTesting_Rate         0.039961      -0.089299       -0.161837  \ngov_party           -0.504145       0.142408        0.046671  \nelection_diff       -0.227868       0.075013       -0.002324  \nApr-19               0.162987      -0.070715       -0.138975  \nMar-19               0.223675      -0.148534       -0.200006  \nFeb-20               0.162969       0.103918       -0.193674  \nMar-20               0.154499       0.401967        0.195253  \ndays_closed          1.000000      -0.094627       -0.050461  \nyearly_change       -0.094627       1.000000        0.747810  \nmonthly_change      -0.050461       0.747810        1.000000  \n"
    }
   ],
   "source": [
    "pipe.get_summary_stats(data)"
   ]
  },
  {
   "cell_type": "markdown",
   "metadata": {},
   "source": [
    "After reviewing the summary statistics, we confirmed that the median income is non-negative. We also looked into the potential outlier on population density and confirmed that that value is New York City."
   ]
  },
  {
   "cell_type": "code",
   "execution_count": 6,
   "metadata": {},
   "outputs": [
    {
     "output_type": "execute_result",
     "data": {
      "text/plain": "name                 object\ntotal_pop             int64\nmedian_income       float64\nstate                object\ncounty               object\ncounty_name          object\nstate_name           object\nprop_white          float64\nprop_black          float64\nprop_hisp           float64\nlog_med_income      float64\nprop_no_internet    float64\nprop_ba             float64\nprop_services       float64\npop_density         float64\nFIPS                float64\ncovid_cases           int64\nTesting_Rate        float64\ngov_party             int64\nelection_diff       float64\nApr-19              float64\nMar-19              float64\nFeb-20              float64\nMar-20              float64\ndays_closed         float64\nyearly_change       float64\nmonthly_change      float64\ndtype: object"
     },
     "metadata": {},
     "execution_count": 6
    }
   ],
   "source": [
    "data.dtypes"
   ]
  },
  {
   "cell_type": "markdown",
   "metadata": {},
   "source": [
    "# Model Fitting & Evaluation"
   ]
  },
  {
   "cell_type": "code",
   "execution_count": 47,
   "metadata": {},
   "outputs": [],
   "source": [
    "best_models = {}"
   ]
  },
  {
   "cell_type": "markdown",
   "metadata": {},
   "source": [
    "## Monthly Data"
   ]
  },
  {
   "cell_type": "markdown",
   "metadata": {},
   "source": [
    "### With States"
   ]
  },
  {
   "cell_type": "code",
   "execution_count": 48,
   "metadata": {},
   "outputs": [],
   "source": [
    "# Select variables from full dataframe\n",
    "df_mo_st = data.drop(['Apr-19','Mar-20','Feb-20','Mar-20','median_income',\n",
    "                  'yearly_change','FIPS','name','state_name','county_name','county'], axis=1)"
   ]
  },
  {
   "cell_type": "code",
   "execution_count": 49,
   "metadata": {},
   "outputs": [
    {
     "output_type": "stream",
     "name": "stdout",
     "text": "Training set contains 2260 observations\nTesting set contains 566 observation\n\nImputing log_med_income missing values with median 10.819318178577827\nImputing prop_services missing values with median 0.0790869921304704\n"
    }
   ],
   "source": [
    "# One-hot encode state\n",
    "df_mo_st = pipe.hot_encode(df_mo_st, ['state'])\n",
    "\n",
    "# Create training and testing sets\n",
    "train, test = pipe.split_data(df_mo_st)\n",
    "\n",
    "# Impute/nomralize continuous variables\n",
    "numeric_cols = train.select_dtypes(include=['float64']).columns\n",
    "train, test = pipe.impute_missing(train, test, numeric_cols)\n",
    "train, test = pipe.normalize(train, test, numeric_cols)\n",
    "\n",
    "# Separate features and targets\n",
    "train_features = train.drop('monthly_change', axis=1)\n",
    "test_features = test.drop('monthly_change', axis=1)\n",
    "\n",
    "train_target = train['monthly_change']\n",
    "test_target = test['monthly_change']"
   ]
  },
  {
   "cell_type": "markdown",
   "metadata": {},
   "source": [
    "### Ridge"
   ]
  },
  {
   "cell_type": "code",
   "execution_count": 50,
   "metadata": {},
   "outputs": [
    {
     "output_type": "stream",
     "name": "stdout",
     "text": "Fitting 5 folds for each of 2 candidates, totalling 10 fits\n[Parallel(n_jobs=1)]: Using backend SequentialBackend with 1 concurrent workers.\n[Parallel(n_jobs=1)]: Done  10 out of  10 | elapsed:   16.1s finished\n"
    },
    {
     "output_type": "execute_result",
     "data": {
      "text/plain": "  param_poly__degree  rank_test_score  mean_test_score\n0                  1                1        -0.169051\n1                  2                2        -4.128366",
      "text/html": "<div>\n<style scoped>\n    .dataframe tbody tr th:only-of-type {\n        vertical-align: middle;\n    }\n\n    .dataframe tbody tr th {\n        vertical-align: top;\n    }\n\n    .dataframe thead th {\n        text-align: right;\n    }\n</style>\n<table border=\"1\" class=\"dataframe\">\n  <thead>\n    <tr style=\"text-align: right;\">\n      <th></th>\n      <th>param_poly__degree</th>\n      <th>rank_test_score</th>\n      <th>mean_test_score</th>\n    </tr>\n  </thead>\n  <tbody>\n    <tr>\n      <th>0</th>\n      <td>1</td>\n      <td>1</td>\n      <td>-0.169051</td>\n    </tr>\n    <tr>\n      <th>1</th>\n      <td>2</td>\n      <td>2</td>\n      <td>-4.128366</td>\n    </tr>\n  </tbody>\n</table>\n</div>"
     },
     "metadata": {},
     "execution_count": 50
    }
   ],
   "source": [
    "# Set up Pipeline for Ridge\n",
    "pipeline = Pipeline([\n",
    "    ('poly', PolynomialFeatures(include_bias=False)),\n",
    "    ('ridge', Ridge(alpha=0.1))\n",
    "])\n",
    "\n",
    "alpha_range = np.arange(0,1,0.1)\n",
    "params = {\n",
    "          'ridge__alpha': alpha_range,\n",
    "          'poly__degree': (1,2)\n",
    "         }\n",
    "\n",
    "grid_model, grid_model_result, cv_results = pipe.run_gridsearch(pipeline, params, train_features, train_target, verbose=1)\n",
    "\n",
    "cv_results"
   ]
  },
  {
   "cell_type": "code",
   "execution_count": 51,
   "metadata": {},
   "outputs": [
    {
     "output_type": "stream",
     "name": "stdout",
     "text": "Pipeline(memory=None,\n         steps=[('poly',\n                 PolynomialFeatures(degree=1, include_bias=False,\n                                    interaction_only=False, order='C')),\n                ('ridge',\n                 Ridge(alpha=0.1, copy_X=True, fit_intercept=True,\n                       max_iter=None, normalize=False, random_state=None,\n                       solver='auto', tol=0.001))],\n         verbose=False) \n\nMean Squared Error: 0.17870094572336545\nR-Squared: 0.8251238972397802\nAdjusted R-Squared: 0.801993991864681\n"
    },
    {
     "output_type": "execute_result",
     "data": {
      "text/plain": "          feature  coefficient  coefficient (absolute)\n20       state_08      2.70612            2.706121e+00\n43       state_32      2.45017            2.450172e+00\n26       state_15       -1.736            1.735998e+00\n33       state_22      1.68121            1.681206e+00\n42       state_31      1.56017            1.560169e+00\n..            ...          ...                     ...\n12  election_diff  -0.00791619            7.916192e-03\n8     pop_density  -0.00120876            1.208756e-03\n9     covid_cases   3.3044e-06            3.304398e-06\n0       total_pop  1.66046e-07            1.660456e-07\n16       state_02            0            0.000000e+00\n\n[66 rows x 3 columns]",
      "text/html": "<div>\n<style scoped>\n    .dataframe tbody tr th:only-of-type {\n        vertical-align: middle;\n    }\n\n    .dataframe tbody tr th {\n        vertical-align: top;\n    }\n\n    .dataframe thead th {\n        text-align: right;\n    }\n</style>\n<table border=\"1\" class=\"dataframe\">\n  <thead>\n    <tr style=\"text-align: right;\">\n      <th></th>\n      <th>feature</th>\n      <th>coefficient</th>\n      <th>coefficient (absolute)</th>\n    </tr>\n  </thead>\n  <tbody>\n    <tr>\n      <th>20</th>\n      <td>state_08</td>\n      <td>2.70612</td>\n      <td>2.706121e+00</td>\n    </tr>\n    <tr>\n      <th>43</th>\n      <td>state_32</td>\n      <td>2.45017</td>\n      <td>2.450172e+00</td>\n    </tr>\n    <tr>\n      <th>26</th>\n      <td>state_15</td>\n      <td>-1.736</td>\n      <td>1.735998e+00</td>\n    </tr>\n    <tr>\n      <th>33</th>\n      <td>state_22</td>\n      <td>1.68121</td>\n      <td>1.681206e+00</td>\n    </tr>\n    <tr>\n      <th>42</th>\n      <td>state_31</td>\n      <td>1.56017</td>\n      <td>1.560169e+00</td>\n    </tr>\n    <tr>\n      <th>...</th>\n      <td>...</td>\n      <td>...</td>\n      <td>...</td>\n    </tr>\n    <tr>\n      <th>12</th>\n      <td>election_diff</td>\n      <td>-0.00791619</td>\n      <td>7.916192e-03</td>\n    </tr>\n    <tr>\n      <th>8</th>\n      <td>pop_density</td>\n      <td>-0.00120876</td>\n      <td>1.208756e-03</td>\n    </tr>\n    <tr>\n      <th>9</th>\n      <td>covid_cases</td>\n      <td>3.3044e-06</td>\n      <td>3.304398e-06</td>\n    </tr>\n    <tr>\n      <th>0</th>\n      <td>total_pop</td>\n      <td>1.66046e-07</td>\n      <td>1.660456e-07</td>\n    </tr>\n    <tr>\n      <th>16</th>\n      <td>state_02</td>\n      <td>0</td>\n      <td>0.000000e+00</td>\n    </tr>\n  </tbody>\n</table>\n<p>66 rows × 3 columns</p>\n</div>"
     },
     "metadata": {},
     "execution_count": 51
    }
   ],
   "source": [
    "print(grid_model_result.best_estimator_, '\\n')\n",
    "\n",
    "# Evaluate model\n",
    "mse, r2, adj = pipe.evaluate_model(grid_model, test_features, test_target)\n",
    "\n",
    "d = {'model': grid_model_result,\n",
    "     'mse': mse,\n",
    "     'r2': r2}\n",
    "\n",
    "best_models['state_ridge'] = d\n",
    "\n",
    "# Rate coefficients\n",
    "pipe.rank_coefs(grid_model_result, train_features.columns)"
   ]
  },
  {
   "cell_type": "code",
   "execution_count": null,
   "metadata": {},
   "outputs": [],
   "source": [
    "# Lasso\n",
    "pipeline = Pipeline([\n",
    "    ('poly', PolynomialFeatures(include_bias=False)),\n",
    "    ('lasso', Lasso(alpha=0.1))\n",
    "])\n",
    "\n",
    "params = {\n",
    "          'lasso__alpha': alpha_range,\n",
    "          'poly__degree': (1,2)\n",
    "         }\n",
    "\n",
    "grid_model, grid_model_result, cv_results = pipe.run_gridsearch(pipeline, params, train_features, train_target, verbose=1)\n",
    "\n",
    "cv_results"
   ]
  },
  {
   "cell_type": "code",
   "execution_count": 19,
   "metadata": {},
   "outputs": [
    {
     "name": "stdout",
     "output_type": "stream",
     "text": [
      "Pipeline(steps=[('poly', PolynomialFeatures(degree=1, include_bias=False)),\n",
      "                ('ridge', Ridge(alpha=0.9))]) \n",
      "\n",
      "Mean Squared Error: 0.17901481774533548\n",
      "R-Squared: 0.824816743207968\n",
      "Adjusted R-Squared: 0.8016462122495029\n"
     ]
    },
    {
     "data": {
      "text/html": [
       "<div>\n",
       "<style scoped>\n",
       "    .dataframe tbody tr th:only-of-type {\n",
       "        vertical-align: middle;\n",
       "    }\n",
       "\n",
       "    .dataframe tbody tr th {\n",
       "        vertical-align: top;\n",
       "    }\n",
       "\n",
       "    .dataframe thead th {\n",
       "        text-align: right;\n",
       "    }\n",
       "</style>\n",
       "<table border=\"1\" class=\"dataframe\">\n",
       "  <thead>\n",
       "    <tr style=\"text-align: right;\">\n",
       "      <th></th>\n",
       "      <th>feature</th>\n",
       "      <th>coefficient</th>\n",
       "      <th>coefficient (absolute)</th>\n",
       "    </tr>\n",
       "  </thead>\n",
       "  <tbody>\n",
       "    <tr>\n",
       "      <td>20</td>\n",
       "      <td>state_08</td>\n",
       "      <td>0.362565</td>\n",
       "      <td>3.625650e-01</td>\n",
       "    </tr>\n",
       "    <tr>\n",
       "      <td>33</td>\n",
       "      <td>state_22</td>\n",
       "      <td>0.247366</td>\n",
       "      <td>2.473659e-01</td>\n",
       "    </tr>\n",
       "    <tr>\n",
       "      <td>58</td>\n",
       "      <td>state_48</td>\n",
       "      <td>0.246354</td>\n",
       "      <td>2.463540e-01</td>\n",
       "    </tr>\n",
       "    <tr>\n",
       "      <td>64</td>\n",
       "      <td>state_55</td>\n",
       "      <td>-0.229637</td>\n",
       "      <td>2.296374e-01</td>\n",
       "    </tr>\n",
       "    <tr>\n",
       "      <td>42</td>\n",
       "      <td>state_31</td>\n",
       "      <td>0.211224</td>\n",
       "      <td>2.112235e-01</td>\n",
       "    </tr>\n",
       "    <tr>\n",
       "      <td>...</td>\n",
       "      <td>...</td>\n",
       "      <td>...</td>\n",
       "      <td>...</td>\n",
       "    </tr>\n",
       "    <tr>\n",
       "      <td>8</td>\n",
       "      <td>pop_density</td>\n",
       "      <td>-0.00152606</td>\n",
       "      <td>1.526061e-03</td>\n",
       "    </tr>\n",
       "    <tr>\n",
       "      <td>11</td>\n",
       "      <td>gov_party</td>\n",
       "      <td>-0.000735508</td>\n",
       "      <td>7.355081e-04</td>\n",
       "    </tr>\n",
       "    <tr>\n",
       "      <td>9</td>\n",
       "      <td>covid_cases</td>\n",
       "      <td>3.40473e-06</td>\n",
       "      <td>3.404729e-06</td>\n",
       "    </tr>\n",
       "    <tr>\n",
       "      <td>0</td>\n",
       "      <td>total_pop</td>\n",
       "      <td>1.65259e-07</td>\n",
       "      <td>1.652587e-07</td>\n",
       "    </tr>\n",
       "    <tr>\n",
       "      <td>16</td>\n",
       "      <td>state_02</td>\n",
       "      <td>0</td>\n",
       "      <td>0.000000e+00</td>\n",
       "    </tr>\n",
       "  </tbody>\n",
       "</table>\n",
       "<p>66 rows × 3 columns</p>\n",
       "</div>"
      ],
      "text/plain": [
       "        feature  coefficient  coefficient (absolute)\n",
       "20     state_08     0.362565            3.625650e-01\n",
       "33     state_22     0.247366            2.473659e-01\n",
       "58     state_48     0.246354            2.463540e-01\n",
       "64     state_55    -0.229637            2.296374e-01\n",
       "42     state_31     0.211224            2.112235e-01\n",
       "..          ...          ...                     ...\n",
       "8   pop_density  -0.00152606            1.526061e-03\n",
       "11    gov_party -0.000735508            7.355081e-04\n",
       "9   covid_cases  3.40473e-06            3.404729e-06\n",
       "0     total_pop  1.65259e-07            1.652587e-07\n",
       "16     state_02            0            0.000000e+00\n",
       "\n",
       "[66 rows x 3 columns]"
      ]
     },
     "execution_count": 19,
     "metadata": {},
     "output_type": "execute_result"
    }
   ],
   "source": [
    "print(grid_model_result.best_estimator_, '\\n')\n",
    "\n",
    "# Evaluate model\n",
    "mse, r2, adj = pipe.evaluate_model(grid_model, test_features, test_target)\n",
    "\n",
    "d = {'model': grid_model_result,\n",
    "     'mse': mse,\n",
    "     'r2': r2}\n",
    "\n",
    "best_models['state_lasso'] = d\n",
    "\n",
    "# Rank coefficients\n",
    "pipe.rank_coefs(grid_model_result, train_features.columns)"
   ]
  },
  {
   "cell_type": "markdown",
   "metadata": {},
   "source": [
    "### Linear Regression"
   ]
  },
  {
   "cell_type": "code",
   "execution_count": 42,
   "metadata": {},
   "outputs": [
    {
     "output_type": "stream",
     "name": "stdout",
     "text": "Fitting 5 folds for each of 2 candidates, totalling 10 fits\n[Parallel(n_jobs=1)]: Using backend SequentialBackend with 1 concurrent workers.\n[Parallel(n_jobs=1)]: Done  10 out of  10 | elapsed:   25.5s finished\n"
    },
    {
     "output_type": "execute_result",
     "data": {
      "text/plain": "  param_poly__degree  rank_test_score  mean_test_score\n0                  1                1        -0.942384\n1                  2                2        -2.866127",
      "text/html": "<div>\n<style scoped>\n    .dataframe tbody tr th:only-of-type {\n        vertical-align: middle;\n    }\n\n    .dataframe tbody tr th {\n        vertical-align: top;\n    }\n\n    .dataframe thead th {\n        text-align: right;\n    }\n</style>\n<table border=\"1\" class=\"dataframe\">\n  <thead>\n    <tr style=\"text-align: right;\">\n      <th></th>\n      <th>param_poly__degree</th>\n      <th>rank_test_score</th>\n      <th>mean_test_score</th>\n    </tr>\n  </thead>\n  <tbody>\n    <tr>\n      <th>0</th>\n      <td>1</td>\n      <td>1</td>\n      <td>-0.942384</td>\n    </tr>\n    <tr>\n      <th>1</th>\n      <td>2</td>\n      <td>2</td>\n      <td>-2.866127</td>\n    </tr>\n  </tbody>\n</table>\n</div>"
     },
     "metadata": {},
     "execution_count": 42
    }
   ],
   "source": [
    "pipeline_l = Pipeline([\n",
    "    ('poly', PolynomialFeatures(include_bias=False)), ('linreg', LinearRegression())\n",
    "])\n",
    "\n",
    "params_l = {\n",
    "          'poly__degree': (1,2)\n",
    "         }\n",
    "\n",
    "grid_model, grid_model_result, cv_results = pipe.run_gridsearch(pipeline, params, train_features, train_target, verbose=1)\n",
    "\n",
    "cv_results"
   ]
  },
  {
   "cell_type": "code",
   "execution_count": 43,
   "metadata": {},
   "outputs": [
    {
     "output_type": "stream",
     "name": "stdout",
     "text": "Pipeline(memory=None,\n         steps=[('poly',\n                 PolynomialFeatures(degree=1, include_bias=False,\n                                    interaction_only=False, order='C')),\n                ('lasso',\n                 Lasso(alpha=0.1, copy_X=True, fit_intercept=True,\n                       max_iter=1000, normalize=False, positive=False,\n                       precompute=False, random_state=None, selection='cyclic',\n                       tol=0.0001, warm_start=False))],\n         verbose=False) \n\nMean Squared Error: 0.86586640646064\nR-Squared: 0.07314675610482002\nAdjusted R-Squared: -0.049443051704963326\n"
    },
    {
     "output_type": "execute_result",
     "data": {
      "text/plain": "             feature  coefficient  coefficient (absolute)\n3          prop_hisp     0.128849                0.128849\n13            Mar-19    -0.046523                0.046523\n5   prop_no_internet    0.0344106                0.034411\n14       days_closed  -0.00756243                0.007562\n9        covid_cases -7.03838e-06                0.000007\n..               ...          ...                     ...\n30          state_19            0                0.000000\n31          state_20           -0                0.000000\n32          state_21            0                0.000000\n1         prop_white           -0                0.000000\n65          state_56           -0                0.000000\n\n[66 rows x 3 columns]",
      "text/html": "<div>\n<style scoped>\n    .dataframe tbody tr th:only-of-type {\n        vertical-align: middle;\n    }\n\n    .dataframe tbody tr th {\n        vertical-align: top;\n    }\n\n    .dataframe thead th {\n        text-align: right;\n    }\n</style>\n<table border=\"1\" class=\"dataframe\">\n  <thead>\n    <tr style=\"text-align: right;\">\n      <th></th>\n      <th>feature</th>\n      <th>coefficient</th>\n      <th>coefficient (absolute)</th>\n    </tr>\n  </thead>\n  <tbody>\n    <tr>\n      <th>3</th>\n      <td>prop_hisp</td>\n      <td>0.128849</td>\n      <td>0.128849</td>\n    </tr>\n    <tr>\n      <th>13</th>\n      <td>Mar-19</td>\n      <td>-0.046523</td>\n      <td>0.046523</td>\n    </tr>\n    <tr>\n      <th>5</th>\n      <td>prop_no_internet</td>\n      <td>0.0344106</td>\n      <td>0.034411</td>\n    </tr>\n    <tr>\n      <th>14</th>\n      <td>days_closed</td>\n      <td>-0.00756243</td>\n      <td>0.007562</td>\n    </tr>\n    <tr>\n      <th>9</th>\n      <td>covid_cases</td>\n      <td>-7.03838e-06</td>\n      <td>0.000007</td>\n    </tr>\n    <tr>\n      <th>...</th>\n      <td>...</td>\n      <td>...</td>\n      <td>...</td>\n    </tr>\n    <tr>\n      <th>30</th>\n      <td>state_19</td>\n      <td>0</td>\n      <td>0.000000</td>\n    </tr>\n    <tr>\n      <th>31</th>\n      <td>state_20</td>\n      <td>-0</td>\n      <td>0.000000</td>\n    </tr>\n    <tr>\n      <th>32</th>\n      <td>state_21</td>\n      <td>0</td>\n      <td>0.000000</td>\n    </tr>\n    <tr>\n      <th>1</th>\n      <td>prop_white</td>\n      <td>-0</td>\n      <td>0.000000</td>\n    </tr>\n    <tr>\n      <th>65</th>\n      <td>state_56</td>\n      <td>-0</td>\n      <td>0.000000</td>\n    </tr>\n  </tbody>\n</table>\n<p>66 rows × 3 columns</p>\n</div>"
     },
     "metadata": {},
     "execution_count": 43
    }
   ],
   "source": [
    "print(grid_model_result.best_estimator_, '\\n')\n",
    "\n",
    "# Evaluate model\n",
    "mse, r2, adj = pipe.evaluate_model(grid_model, test_features, test_target)\n",
    "\n",
    "d = {'model': grid_model_result,\n",
    "     'mse': mse,\n",
    "     'r2': r2}\n",
    "\n",
    "best_models['state_linear'] = d\n",
    "\n",
    "# Rank coefficients\n",
    "pipe.rank_coefs(grid_model_result, train_features.columns)"
   ]
  },
  {
   "cell_type": "markdown",
   "metadata": {},
   "source": [
    "### Elastic Net"
   ]
  },
  {
   "cell_type": "code",
   "execution_count": 37,
   "metadata": {},
   "outputs": [
    {
     "output_type": "stream",
     "name": "stdout",
     "text": "Fitting 5 folds for each of 2 candidates, totalling 10 fits\n[Parallel(n_jobs=1)]: Using backend SequentialBackend with 1 concurrent workers.\n"
    },
    {
     "output_type": "error",
     "ename": "KeyboardInterrupt",
     "evalue": "",
     "traceback": [
      "\u001b[0;31m---------------------------------------------------------------------------\u001b[0m",
      "\u001b[0;31mKeyboardInterrupt\u001b[0m                         Traceback (most recent call last)",
      "\u001b[0;32m<ipython-input-37-dba7078bebe9>\u001b[0m in \u001b[0;36m<module>\u001b[0;34m\u001b[0m\n\u001b[1;32m      7\u001b[0m          }\n\u001b[1;32m      8\u001b[0m \u001b[0;34m\u001b[0m\u001b[0m\n\u001b[0;32m----> 9\u001b[0;31m \u001b[0mgrid_model\u001b[0m\u001b[0;34m,\u001b[0m \u001b[0mgrid_model_result\u001b[0m\u001b[0;34m,\u001b[0m \u001b[0mcv_results\u001b[0m \u001b[0;34m=\u001b[0m \u001b[0mpipe\u001b[0m\u001b[0;34m.\u001b[0m\u001b[0mrun_gridsearch\u001b[0m\u001b[0;34m(\u001b[0m\u001b[0mpipeline\u001b[0m\u001b[0;34m,\u001b[0m \u001b[0mparams\u001b[0m\u001b[0;34m,\u001b[0m \u001b[0mtrain_features\u001b[0m\u001b[0;34m,\u001b[0m \u001b[0mtrain_target\u001b[0m\u001b[0;34m,\u001b[0m \u001b[0mverbose\u001b[0m\u001b[0;34m=\u001b[0m\u001b[0;36m1\u001b[0m\u001b[0;34m)\u001b[0m\u001b[0;34m\u001b[0m\u001b[0;34m\u001b[0m\u001b[0m\n\u001b[0m\u001b[1;32m     10\u001b[0m \u001b[0;34m\u001b[0m\u001b[0m\n\u001b[1;32m     11\u001b[0m \u001b[0mcv_results\u001b[0m\u001b[0;34m\u001b[0m\u001b[0;34m\u001b[0m\u001b[0m\n",
      "\u001b[0;32m~/git/ml-final-project/pipeline.py\u001b[0m in \u001b[0;36mrun_gridsearch\u001b[0;34m(pl, params, train_features, train_target, head, verbose)\u001b[0m\n\u001b[1;32m    161\u001b[0m                               verbose=verbose)\n\u001b[1;32m    162\u001b[0m \u001b[0;34m\u001b[0m\u001b[0m\n\u001b[0;32m--> 163\u001b[0;31m     \u001b[0mgrid_model_result\u001b[0m \u001b[0;34m=\u001b[0m \u001b[0mgrid_model\u001b[0m\u001b[0;34m.\u001b[0m\u001b[0mfit\u001b[0m\u001b[0;34m(\u001b[0m\u001b[0mtrain_features\u001b[0m\u001b[0;34m,\u001b[0m \u001b[0mtrain_target\u001b[0m\u001b[0;34m)\u001b[0m\u001b[0;34m\u001b[0m\u001b[0;34m\u001b[0m\u001b[0m\n\u001b[0m\u001b[1;32m    164\u001b[0m     \u001b[0mcv_results\u001b[0m \u001b[0;34m=\u001b[0m \u001b[0mpd\u001b[0m\u001b[0;34m.\u001b[0m\u001b[0mDataFrame\u001b[0m\u001b[0;34m(\u001b[0m\u001b[0mgrid_model_result\u001b[0m\u001b[0;34m.\u001b[0m\u001b[0mcv_results_\u001b[0m\u001b[0;34m)\u001b[0m\u001b[0;34m\u001b[0m\u001b[0;34m\u001b[0m\u001b[0m\n\u001b[1;32m    165\u001b[0m \u001b[0;34m\u001b[0m\u001b[0m\n",
      "\u001b[0;32m~/anaconda3/envs/geo_env/lib/python3.8/site-packages/sklearn/model_selection/_search.py\u001b[0m in \u001b[0;36mfit\u001b[0;34m(self, X, y, groups, **fit_params)\u001b[0m\n\u001b[1;32m    708\u001b[0m                 \u001b[0;32mreturn\u001b[0m \u001b[0mresults\u001b[0m\u001b[0;34m\u001b[0m\u001b[0;34m\u001b[0m\u001b[0m\n\u001b[1;32m    709\u001b[0m \u001b[0;34m\u001b[0m\u001b[0m\n\u001b[0;32m--> 710\u001b[0;31m             \u001b[0mself\u001b[0m\u001b[0;34m.\u001b[0m\u001b[0m_run_search\u001b[0m\u001b[0;34m(\u001b[0m\u001b[0mevaluate_candidates\u001b[0m\u001b[0;34m)\u001b[0m\u001b[0;34m\u001b[0m\u001b[0;34m\u001b[0m\u001b[0m\n\u001b[0m\u001b[1;32m    711\u001b[0m \u001b[0;34m\u001b[0m\u001b[0m\n\u001b[1;32m    712\u001b[0m         \u001b[0;31m# For multi-metric evaluation, store the best_index_, best_params_ and\u001b[0m\u001b[0;34m\u001b[0m\u001b[0;34m\u001b[0m\u001b[0;34m\u001b[0m\u001b[0m\n",
      "\u001b[0;32m~/anaconda3/envs/geo_env/lib/python3.8/site-packages/sklearn/model_selection/_search.py\u001b[0m in \u001b[0;36m_run_search\u001b[0;34m(self, evaluate_candidates)\u001b[0m\n\u001b[1;32m   1149\u001b[0m     \u001b[0;32mdef\u001b[0m \u001b[0m_run_search\u001b[0m\u001b[0;34m(\u001b[0m\u001b[0mself\u001b[0m\u001b[0;34m,\u001b[0m \u001b[0mevaluate_candidates\u001b[0m\u001b[0;34m)\u001b[0m\u001b[0;34m:\u001b[0m\u001b[0;34m\u001b[0m\u001b[0;34m\u001b[0m\u001b[0m\n\u001b[1;32m   1150\u001b[0m         \u001b[0;34m\"\"\"Search all candidates in param_grid\"\"\"\u001b[0m\u001b[0;34m\u001b[0m\u001b[0;34m\u001b[0m\u001b[0m\n\u001b[0;32m-> 1151\u001b[0;31m         \u001b[0mevaluate_candidates\u001b[0m\u001b[0;34m(\u001b[0m\u001b[0mParameterGrid\u001b[0m\u001b[0;34m(\u001b[0m\u001b[0mself\u001b[0m\u001b[0;34m.\u001b[0m\u001b[0mparam_grid\u001b[0m\u001b[0;34m)\u001b[0m\u001b[0;34m)\u001b[0m\u001b[0;34m\u001b[0m\u001b[0;34m\u001b[0m\u001b[0m\n\u001b[0m\u001b[1;32m   1152\u001b[0m \u001b[0;34m\u001b[0m\u001b[0m\n\u001b[1;32m   1153\u001b[0m \u001b[0;34m\u001b[0m\u001b[0m\n",
      "\u001b[0;32m~/anaconda3/envs/geo_env/lib/python3.8/site-packages/sklearn/model_selection/_search.py\u001b[0m in \u001b[0;36mevaluate_candidates\u001b[0;34m(candidate_params)\u001b[0m\n\u001b[1;32m    680\u001b[0m                               n_splits, n_candidates, n_candidates * n_splits))\n\u001b[1;32m    681\u001b[0m \u001b[0;34m\u001b[0m\u001b[0m\n\u001b[0;32m--> 682\u001b[0;31m                 out = parallel(delayed(_fit_and_score)(clone(base_estimator),\n\u001b[0m\u001b[1;32m    683\u001b[0m                                                        \u001b[0mX\u001b[0m\u001b[0;34m,\u001b[0m \u001b[0my\u001b[0m\u001b[0;34m,\u001b[0m\u001b[0;34m\u001b[0m\u001b[0;34m\u001b[0m\u001b[0m\n\u001b[1;32m    684\u001b[0m                                                        \u001b[0mtrain\u001b[0m\u001b[0;34m=\u001b[0m\u001b[0mtrain\u001b[0m\u001b[0;34m,\u001b[0m \u001b[0mtest\u001b[0m\u001b[0;34m=\u001b[0m\u001b[0mtest\u001b[0m\u001b[0;34m,\u001b[0m\u001b[0;34m\u001b[0m\u001b[0;34m\u001b[0m\u001b[0m\n",
      "\u001b[0;32m~/anaconda3/envs/geo_env/lib/python3.8/site-packages/joblib/parallel.py\u001b[0m in \u001b[0;36m__call__\u001b[0;34m(self, iterable)\u001b[0m\n\u001b[1;32m   1005\u001b[0m                 \u001b[0mself\u001b[0m\u001b[0;34m.\u001b[0m\u001b[0m_iterating\u001b[0m \u001b[0;34m=\u001b[0m \u001b[0mself\u001b[0m\u001b[0;34m.\u001b[0m\u001b[0m_original_iterator\u001b[0m \u001b[0;32mis\u001b[0m \u001b[0;32mnot\u001b[0m \u001b[0;32mNone\u001b[0m\u001b[0;34m\u001b[0m\u001b[0;34m\u001b[0m\u001b[0m\n\u001b[1;32m   1006\u001b[0m \u001b[0;34m\u001b[0m\u001b[0m\n\u001b[0;32m-> 1007\u001b[0;31m             \u001b[0;32mwhile\u001b[0m \u001b[0mself\u001b[0m\u001b[0;34m.\u001b[0m\u001b[0mdispatch_one_batch\u001b[0m\u001b[0;34m(\u001b[0m\u001b[0miterator\u001b[0m\u001b[0;34m)\u001b[0m\u001b[0;34m:\u001b[0m\u001b[0;34m\u001b[0m\u001b[0;34m\u001b[0m\u001b[0m\n\u001b[0m\u001b[1;32m   1008\u001b[0m                 \u001b[0;32mpass\u001b[0m\u001b[0;34m\u001b[0m\u001b[0;34m\u001b[0m\u001b[0m\n\u001b[1;32m   1009\u001b[0m \u001b[0;34m\u001b[0m\u001b[0m\n",
      "\u001b[0;32m~/anaconda3/envs/geo_env/lib/python3.8/site-packages/joblib/parallel.py\u001b[0m in \u001b[0;36mdispatch_one_batch\u001b[0;34m(self, iterator)\u001b[0m\n\u001b[1;32m    833\u001b[0m                 \u001b[0;32mreturn\u001b[0m \u001b[0;32mFalse\u001b[0m\u001b[0;34m\u001b[0m\u001b[0;34m\u001b[0m\u001b[0m\n\u001b[1;32m    834\u001b[0m             \u001b[0;32melse\u001b[0m\u001b[0;34m:\u001b[0m\u001b[0;34m\u001b[0m\u001b[0;34m\u001b[0m\u001b[0m\n\u001b[0;32m--> 835\u001b[0;31m                 \u001b[0mself\u001b[0m\u001b[0;34m.\u001b[0m\u001b[0m_dispatch\u001b[0m\u001b[0;34m(\u001b[0m\u001b[0mtasks\u001b[0m\u001b[0;34m)\u001b[0m\u001b[0;34m\u001b[0m\u001b[0;34m\u001b[0m\u001b[0m\n\u001b[0m\u001b[1;32m    836\u001b[0m                 \u001b[0;32mreturn\u001b[0m \u001b[0;32mTrue\u001b[0m\u001b[0;34m\u001b[0m\u001b[0;34m\u001b[0m\u001b[0m\n\u001b[1;32m    837\u001b[0m \u001b[0;34m\u001b[0m\u001b[0m\n",
      "\u001b[0;32m~/anaconda3/envs/geo_env/lib/python3.8/site-packages/joblib/parallel.py\u001b[0m in \u001b[0;36m_dispatch\u001b[0;34m(self, batch)\u001b[0m\n\u001b[1;32m    752\u001b[0m         \u001b[0;32mwith\u001b[0m \u001b[0mself\u001b[0m\u001b[0;34m.\u001b[0m\u001b[0m_lock\u001b[0m\u001b[0;34m:\u001b[0m\u001b[0;34m\u001b[0m\u001b[0;34m\u001b[0m\u001b[0m\n\u001b[1;32m    753\u001b[0m             \u001b[0mjob_idx\u001b[0m \u001b[0;34m=\u001b[0m \u001b[0mlen\u001b[0m\u001b[0;34m(\u001b[0m\u001b[0mself\u001b[0m\u001b[0;34m.\u001b[0m\u001b[0m_jobs\u001b[0m\u001b[0;34m)\u001b[0m\u001b[0;34m\u001b[0m\u001b[0;34m\u001b[0m\u001b[0m\n\u001b[0;32m--> 754\u001b[0;31m             \u001b[0mjob\u001b[0m \u001b[0;34m=\u001b[0m \u001b[0mself\u001b[0m\u001b[0;34m.\u001b[0m\u001b[0m_backend\u001b[0m\u001b[0;34m.\u001b[0m\u001b[0mapply_async\u001b[0m\u001b[0;34m(\u001b[0m\u001b[0mbatch\u001b[0m\u001b[0;34m,\u001b[0m \u001b[0mcallback\u001b[0m\u001b[0;34m=\u001b[0m\u001b[0mcb\u001b[0m\u001b[0;34m)\u001b[0m\u001b[0;34m\u001b[0m\u001b[0;34m\u001b[0m\u001b[0m\n\u001b[0m\u001b[1;32m    755\u001b[0m             \u001b[0;31m# A job can complete so quickly than its callback is\u001b[0m\u001b[0;34m\u001b[0m\u001b[0;34m\u001b[0m\u001b[0;34m\u001b[0m\u001b[0m\n\u001b[1;32m    756\u001b[0m             \u001b[0;31m# called before we get here, causing self._jobs to\u001b[0m\u001b[0;34m\u001b[0m\u001b[0;34m\u001b[0m\u001b[0;34m\u001b[0m\u001b[0m\n",
      "\u001b[0;32m~/anaconda3/envs/geo_env/lib/python3.8/site-packages/joblib/_parallel_backends.py\u001b[0m in \u001b[0;36mapply_async\u001b[0;34m(self, func, callback)\u001b[0m\n\u001b[1;32m    207\u001b[0m     \u001b[0;32mdef\u001b[0m \u001b[0mapply_async\u001b[0m\u001b[0;34m(\u001b[0m\u001b[0mself\u001b[0m\u001b[0;34m,\u001b[0m \u001b[0mfunc\u001b[0m\u001b[0;34m,\u001b[0m \u001b[0mcallback\u001b[0m\u001b[0;34m=\u001b[0m\u001b[0;32mNone\u001b[0m\u001b[0;34m)\u001b[0m\u001b[0;34m:\u001b[0m\u001b[0;34m\u001b[0m\u001b[0;34m\u001b[0m\u001b[0m\n\u001b[1;32m    208\u001b[0m         \u001b[0;34m\"\"\"Schedule a func to be run\"\"\"\u001b[0m\u001b[0;34m\u001b[0m\u001b[0;34m\u001b[0m\u001b[0m\n\u001b[0;32m--> 209\u001b[0;31m         \u001b[0mresult\u001b[0m \u001b[0;34m=\u001b[0m \u001b[0mImmediateResult\u001b[0m\u001b[0;34m(\u001b[0m\u001b[0mfunc\u001b[0m\u001b[0;34m)\u001b[0m\u001b[0;34m\u001b[0m\u001b[0;34m\u001b[0m\u001b[0m\n\u001b[0m\u001b[1;32m    210\u001b[0m         \u001b[0;32mif\u001b[0m \u001b[0mcallback\u001b[0m\u001b[0;34m:\u001b[0m\u001b[0;34m\u001b[0m\u001b[0;34m\u001b[0m\u001b[0m\n\u001b[1;32m    211\u001b[0m             \u001b[0mcallback\u001b[0m\u001b[0;34m(\u001b[0m\u001b[0mresult\u001b[0m\u001b[0;34m)\u001b[0m\u001b[0;34m\u001b[0m\u001b[0;34m\u001b[0m\u001b[0m\n",
      "\u001b[0;32m~/anaconda3/envs/geo_env/lib/python3.8/site-packages/joblib/_parallel_backends.py\u001b[0m in \u001b[0;36m__init__\u001b[0;34m(self, batch)\u001b[0m\n\u001b[1;32m    588\u001b[0m         \u001b[0;31m# Don't delay the application, to avoid keeping the input\u001b[0m\u001b[0;34m\u001b[0m\u001b[0;34m\u001b[0m\u001b[0;34m\u001b[0m\u001b[0m\n\u001b[1;32m    589\u001b[0m         \u001b[0;31m# arguments in memory\u001b[0m\u001b[0;34m\u001b[0m\u001b[0;34m\u001b[0m\u001b[0;34m\u001b[0m\u001b[0m\n\u001b[0;32m--> 590\u001b[0;31m         \u001b[0mself\u001b[0m\u001b[0;34m.\u001b[0m\u001b[0mresults\u001b[0m \u001b[0;34m=\u001b[0m \u001b[0mbatch\u001b[0m\u001b[0;34m(\u001b[0m\u001b[0;34m)\u001b[0m\u001b[0;34m\u001b[0m\u001b[0;34m\u001b[0m\u001b[0m\n\u001b[0m\u001b[1;32m    591\u001b[0m \u001b[0;34m\u001b[0m\u001b[0m\n\u001b[1;32m    592\u001b[0m     \u001b[0;32mdef\u001b[0m \u001b[0mget\u001b[0m\u001b[0;34m(\u001b[0m\u001b[0mself\u001b[0m\u001b[0;34m)\u001b[0m\u001b[0;34m:\u001b[0m\u001b[0;34m\u001b[0m\u001b[0;34m\u001b[0m\u001b[0m\n",
      "\u001b[0;32m~/anaconda3/envs/geo_env/lib/python3.8/site-packages/joblib/parallel.py\u001b[0m in \u001b[0;36m__call__\u001b[0;34m(self)\u001b[0m\n\u001b[1;32m    253\u001b[0m         \u001b[0;31m# change the default number of processes to -1\u001b[0m\u001b[0;34m\u001b[0m\u001b[0;34m\u001b[0m\u001b[0;34m\u001b[0m\u001b[0m\n\u001b[1;32m    254\u001b[0m         \u001b[0;32mwith\u001b[0m \u001b[0mparallel_backend\u001b[0m\u001b[0;34m(\u001b[0m\u001b[0mself\u001b[0m\u001b[0;34m.\u001b[0m\u001b[0m_backend\u001b[0m\u001b[0;34m,\u001b[0m \u001b[0mn_jobs\u001b[0m\u001b[0;34m=\u001b[0m\u001b[0mself\u001b[0m\u001b[0;34m.\u001b[0m\u001b[0m_n_jobs\u001b[0m\u001b[0;34m)\u001b[0m\u001b[0;34m:\u001b[0m\u001b[0;34m\u001b[0m\u001b[0;34m\u001b[0m\u001b[0m\n\u001b[0;32m--> 255\u001b[0;31m             return [func(*args, **kwargs)\n\u001b[0m\u001b[1;32m    256\u001b[0m                     for func, args, kwargs in self.items]\n\u001b[1;32m    257\u001b[0m \u001b[0;34m\u001b[0m\u001b[0m\n",
      "\u001b[0;32m~/anaconda3/envs/geo_env/lib/python3.8/site-packages/joblib/parallel.py\u001b[0m in \u001b[0;36m<listcomp>\u001b[0;34m(.0)\u001b[0m\n\u001b[1;32m    253\u001b[0m         \u001b[0;31m# change the default number of processes to -1\u001b[0m\u001b[0;34m\u001b[0m\u001b[0;34m\u001b[0m\u001b[0;34m\u001b[0m\u001b[0m\n\u001b[1;32m    254\u001b[0m         \u001b[0;32mwith\u001b[0m \u001b[0mparallel_backend\u001b[0m\u001b[0;34m(\u001b[0m\u001b[0mself\u001b[0m\u001b[0;34m.\u001b[0m\u001b[0m_backend\u001b[0m\u001b[0;34m,\u001b[0m \u001b[0mn_jobs\u001b[0m\u001b[0;34m=\u001b[0m\u001b[0mself\u001b[0m\u001b[0;34m.\u001b[0m\u001b[0m_n_jobs\u001b[0m\u001b[0;34m)\u001b[0m\u001b[0;34m:\u001b[0m\u001b[0;34m\u001b[0m\u001b[0;34m\u001b[0m\u001b[0m\n\u001b[0;32m--> 255\u001b[0;31m             return [func(*args, **kwargs)\n\u001b[0m\u001b[1;32m    256\u001b[0m                     for func, args, kwargs in self.items]\n\u001b[1;32m    257\u001b[0m \u001b[0;34m\u001b[0m\u001b[0m\n",
      "\u001b[0;32m~/anaconda3/envs/geo_env/lib/python3.8/site-packages/sklearn/model_selection/_validation.py\u001b[0m in \u001b[0;36m_fit_and_score\u001b[0;34m(estimator, X, y, scorer, train, test, verbose, parameters, fit_params, return_train_score, return_parameters, return_n_test_samples, return_times, return_estimator, error_score)\u001b[0m\n\u001b[1;32m    513\u001b[0m             \u001b[0mestimator\u001b[0m\u001b[0;34m.\u001b[0m\u001b[0mfit\u001b[0m\u001b[0;34m(\u001b[0m\u001b[0mX_train\u001b[0m\u001b[0;34m,\u001b[0m \u001b[0;34m**\u001b[0m\u001b[0mfit_params\u001b[0m\u001b[0;34m)\u001b[0m\u001b[0;34m\u001b[0m\u001b[0;34m\u001b[0m\u001b[0m\n\u001b[1;32m    514\u001b[0m         \u001b[0;32melse\u001b[0m\u001b[0;34m:\u001b[0m\u001b[0;34m\u001b[0m\u001b[0;34m\u001b[0m\u001b[0m\n\u001b[0;32m--> 515\u001b[0;31m             \u001b[0mestimator\u001b[0m\u001b[0;34m.\u001b[0m\u001b[0mfit\u001b[0m\u001b[0;34m(\u001b[0m\u001b[0mX_train\u001b[0m\u001b[0;34m,\u001b[0m \u001b[0my_train\u001b[0m\u001b[0;34m,\u001b[0m \u001b[0;34m**\u001b[0m\u001b[0mfit_params\u001b[0m\u001b[0;34m)\u001b[0m\u001b[0;34m\u001b[0m\u001b[0;34m\u001b[0m\u001b[0m\n\u001b[0m\u001b[1;32m    516\u001b[0m \u001b[0;34m\u001b[0m\u001b[0m\n\u001b[1;32m    517\u001b[0m     \u001b[0;32mexcept\u001b[0m \u001b[0mException\u001b[0m \u001b[0;32mas\u001b[0m \u001b[0me\u001b[0m\u001b[0;34m:\u001b[0m\u001b[0;34m\u001b[0m\u001b[0;34m\u001b[0m\u001b[0m\n",
      "\u001b[0;32m~/anaconda3/envs/geo_env/lib/python3.8/site-packages/sklearn/pipeline.py\u001b[0m in \u001b[0;36mfit\u001b[0;34m(self, X, y, **fit_params)\u001b[0m\n\u001b[1;32m    352\u001b[0m                                  self._log_message(len(self.steps) - 1)):\n\u001b[1;32m    353\u001b[0m             \u001b[0;32mif\u001b[0m \u001b[0mself\u001b[0m\u001b[0;34m.\u001b[0m\u001b[0m_final_estimator\u001b[0m \u001b[0;34m!=\u001b[0m \u001b[0;34m'passthrough'\u001b[0m\u001b[0;34m:\u001b[0m\u001b[0;34m\u001b[0m\u001b[0;34m\u001b[0m\u001b[0m\n\u001b[0;32m--> 354\u001b[0;31m                 \u001b[0mself\u001b[0m\u001b[0;34m.\u001b[0m\u001b[0m_final_estimator\u001b[0m\u001b[0;34m.\u001b[0m\u001b[0mfit\u001b[0m\u001b[0;34m(\u001b[0m\u001b[0mXt\u001b[0m\u001b[0;34m,\u001b[0m \u001b[0my\u001b[0m\u001b[0;34m,\u001b[0m \u001b[0;34m**\u001b[0m\u001b[0mfit_params\u001b[0m\u001b[0;34m)\u001b[0m\u001b[0;34m\u001b[0m\u001b[0;34m\u001b[0m\u001b[0m\n\u001b[0m\u001b[1;32m    355\u001b[0m         \u001b[0;32mreturn\u001b[0m \u001b[0mself\u001b[0m\u001b[0;34m\u001b[0m\u001b[0;34m\u001b[0m\u001b[0m\n\u001b[1;32m    356\u001b[0m \u001b[0;34m\u001b[0m\u001b[0m\n",
      "\u001b[0;32m~/anaconda3/envs/geo_env/lib/python3.8/site-packages/sklearn/linear_model/_coordinate_descent.py\u001b[0m in \u001b[0;36mfit\u001b[0;34m(self, X, y, check_input)\u001b[0m\n\u001b[1;32m    738\u001b[0m                 \u001b[0mthis_Xy\u001b[0m \u001b[0;34m=\u001b[0m \u001b[0;32mNone\u001b[0m\u001b[0;34m\u001b[0m\u001b[0;34m\u001b[0m\u001b[0m\n\u001b[1;32m    739\u001b[0m             \u001b[0m_\u001b[0m\u001b[0;34m,\u001b[0m \u001b[0mthis_coef\u001b[0m\u001b[0;34m,\u001b[0m \u001b[0mthis_dual_gap\u001b[0m\u001b[0;34m,\u001b[0m \u001b[0mthis_iter\u001b[0m \u001b[0;34m=\u001b[0m\u001b[0;31m \u001b[0m\u001b[0;31m\\\u001b[0m\u001b[0;34m\u001b[0m\u001b[0;34m\u001b[0m\u001b[0m\n\u001b[0;32m--> 740\u001b[0;31m                 self.path(X, y[:, k],\n\u001b[0m\u001b[1;32m    741\u001b[0m                           \u001b[0ml1_ratio\u001b[0m\u001b[0;34m=\u001b[0m\u001b[0mself\u001b[0m\u001b[0;34m.\u001b[0m\u001b[0ml1_ratio\u001b[0m\u001b[0;34m,\u001b[0m \u001b[0meps\u001b[0m\u001b[0;34m=\u001b[0m\u001b[0;32mNone\u001b[0m\u001b[0;34m,\u001b[0m\u001b[0;34m\u001b[0m\u001b[0;34m\u001b[0m\u001b[0m\n\u001b[1;32m    742\u001b[0m                           \u001b[0mn_alphas\u001b[0m\u001b[0;34m=\u001b[0m\u001b[0;32mNone\u001b[0m\u001b[0;34m,\u001b[0m \u001b[0malphas\u001b[0m\u001b[0;34m=\u001b[0m\u001b[0;34m[\u001b[0m\u001b[0mself\u001b[0m\u001b[0;34m.\u001b[0m\u001b[0malpha\u001b[0m\u001b[0;34m]\u001b[0m\u001b[0;34m,\u001b[0m\u001b[0;34m\u001b[0m\u001b[0;34m\u001b[0m\u001b[0m\n",
      "\u001b[0;32m~/anaconda3/envs/geo_env/lib/python3.8/site-packages/sklearn/linear_model/_coordinate_descent.py\u001b[0m in \u001b[0;36menet_path\u001b[0;34m(X, y, l1_ratio, eps, n_alphas, alphas, precompute, Xy, copy_X, coef_init, verbose, return_n_iter, positive, check_input, **params)\u001b[0m\n\u001b[1;32m    472\u001b[0m                 tol, rng, random, positive)\n\u001b[1;32m    473\u001b[0m         \u001b[0;32melif\u001b[0m \u001b[0mprecompute\u001b[0m \u001b[0;32mis\u001b[0m \u001b[0;32mFalse\u001b[0m\u001b[0;34m:\u001b[0m\u001b[0;34m\u001b[0m\u001b[0;34m\u001b[0m\u001b[0m\n\u001b[0;32m--> 474\u001b[0;31m             model = cd_fast.enet_coordinate_descent(\n\u001b[0m\u001b[1;32m    475\u001b[0m                 \u001b[0mcoef_\u001b[0m\u001b[0;34m,\u001b[0m \u001b[0ml1_reg\u001b[0m\u001b[0;34m,\u001b[0m \u001b[0ml2_reg\u001b[0m\u001b[0;34m,\u001b[0m \u001b[0mX\u001b[0m\u001b[0;34m,\u001b[0m \u001b[0my\u001b[0m\u001b[0;34m,\u001b[0m \u001b[0mmax_iter\u001b[0m\u001b[0;34m,\u001b[0m \u001b[0mtol\u001b[0m\u001b[0;34m,\u001b[0m \u001b[0mrng\u001b[0m\u001b[0;34m,\u001b[0m \u001b[0mrandom\u001b[0m\u001b[0;34m,\u001b[0m\u001b[0;34m\u001b[0m\u001b[0;34m\u001b[0m\u001b[0m\n\u001b[1;32m    476\u001b[0m                 positive)\n",
      "\u001b[0;32msklearn/linear_model/_cd_fast.pyx\u001b[0m in \u001b[0;36msklearn.linear_model._cd_fast.enet_coordinate_descent\u001b[0;34m()\u001b[0m\n",
      "\u001b[0;31mKeyboardInterrupt\u001b[0m: "
     ]
    }
   ],
   "source": [
    "pipeline_l = Pipeline([\n",
    "    ('poly', PolynomialFeatures(include_bias=False)), ('en',ElasticNet())\n",
    "])\n",
    "\n",
    "params_l = {'en__alpha': alpha_range,\n",
    "          'poly__degree': (1,2)\n",
    "         }\n",
    "\n",
    "grid_model, grid_model_result, cv_results = pipe.run_gridsearch(pipeline, params, train_features, train_target, verbose=1)\n",
    "\n",
    "cv_results"
   ]
  },
  {
   "cell_type": "code",
   "execution_count": null,
   "metadata": {},
   "outputs": [],
   "source": [
    "print(grid_model_result.best_estimator_, '\\n')\n",
    "\n",
    "# Evaluate model\n",
    "mse, r2, adj = pipe.evaluate_model(grid_model, test_features, test_target)\n",
    "\n",
    "d = {'model': grid_model_result,\n",
    "     'mse': mse,\n",
    "     'r2': r2}\n",
    "\n",
    "best_models['state_en'] = d\n",
    "\n",
    "# Rank coefficients\n",
    "pipe.rank_coefs(grid_model_result, train_features.columns)"
   ]
  },
  {
   "cell_type": "markdown",
   "metadata": {},
   "source": [
    "### Without States"
   ]
  },
  {
   "cell_type": "code",
   "execution_count": 20,
   "metadata": {},
   "outputs": [],
   "source": [
    "# Select variables from full dataframe\n",
    "df_mo = data.drop(['Apr-19','Mar-20','Feb-20','Mar-20','median_income',\n",
    "                  'yearly_change','FIPS','name','state_name','county_name','county','state'], axis=1)"
   ]
  },
  {
   "cell_type": "code",
   "execution_count": 21,
   "metadata": {},
   "outputs": [
    {
     "name": "stdout",
     "output_type": "stream",
     "text": [
      "Training set contains 2260 observations\n",
      "Testing set contains 566 observation\n",
      "\n",
      "Imputing log_med_income missing values with median 10.819318178577827\n",
      "Imputing prop_services missing values with median 0.0790869921304704\n"
     ]
    }
   ],
   "source": [
    "# Create training and testing sets\n",
    "train, test = pipe.split_data(df_mo)\n",
    "\n",
    "# Impute/normalize continuous variables\n",
    "numeric_cols = train.select_dtypes(include=['float64']).columns #Normalizes state one-hots as well\n",
    "train, test = pipe.impute_missing(train, test, numeric_cols)\n",
    "train, test = pipe.normalize(train, test, numeric_cols)\n",
    "\n",
    "# Separate features and targets                              \n",
    "train_features = train.drop('monthly_change', axis=1)\n",
    "test_features = test.drop('monthly_change', axis=1)\n",
    "\n",
    "train_target = train['monthly_change']\n",
    "test_target = test['monthly_change']"
   ]
  },
  {
   "cell_type": "markdown",
   "metadata": {},
   "source": [
    "### Ridge"
   ]
  },
  {
   "cell_type": "code",
   "execution_count": null,
   "metadata": {},
   "outputs": [],
   "source": [
    "# Set up Pipeline for Ridge\n",
    "pipeline = Pipeline([\n",
    "    ('poly', PolynomialFeatures(include_bias=False)),\n",
    "    ('ridge', Ridge(alpha=0.1))\n",
    "])\n",
    "\n",
    "alpha_range = np.arange(0,1,0.1)\n",
    "params = {\n",
    "          'ridge__alpha': alpha_range,\n",
    "          'poly__degree': (1,2)\n",
    "         }\n",
    "\n",
    "grid_model, grid_model_result, cv_results = pipe.run_gridsearch(pipeline, params, train_features, train_target, verbose=1)\n",
    "\n",
    "cv_results"
   ]
  },
  {
   "cell_type": "code",
   "execution_count": 23,
   "metadata": {},
   "outputs": [
    {
     "name": "stdout",
     "output_type": "stream",
     "text": [
      "Pipeline(steps=[('poly', PolynomialFeatures(degree=1, include_bias=False)),\n",
      "                ('ridge', Ridge(alpha=0.9))]) \n",
      "\n",
      "Mean Squared Error: 0.7667409541331213\n",
      "R-Squared: 0.24967005998379077\n",
      "Adjusted R-Squared: 0.22920651616516685\n"
     ]
    },
    {
     "data": {
      "text/html": [
       "<div>\n",
       "<style scoped>\n",
       "    .dataframe tbody tr th:only-of-type {\n",
       "        vertical-align: middle;\n",
       "    }\n",
       "\n",
       "    .dataframe tbody tr th {\n",
       "        vertical-align: top;\n",
       "    }\n",
       "\n",
       "    .dataframe thead th {\n",
       "        text-align: right;\n",
       "    }\n",
       "</style>\n",
       "<table border=\"1\" class=\"dataframe\">\n",
       "  <thead>\n",
       "    <tr style=\"text-align: right;\">\n",
       "      <th></th>\n",
       "      <th>feature</th>\n",
       "      <th>coefficient</th>\n",
       "      <th>coefficient (absolute)</th>\n",
       "    </tr>\n",
       "  </thead>\n",
       "  <tbody>\n",
       "    <tr>\n",
       "      <td>2</td>\n",
       "      <td>prop_black</td>\n",
       "      <td>0.406446</td>\n",
       "      <td>4.064456e-01</td>\n",
       "    </tr>\n",
       "    <tr>\n",
       "      <td>3</td>\n",
       "      <td>prop_hisp</td>\n",
       "      <td>0.332707</td>\n",
       "      <td>3.327068e-01</td>\n",
       "    </tr>\n",
       "    <tr>\n",
       "      <td>12</td>\n",
       "      <td>election_diff</td>\n",
       "      <td>0.267847</td>\n",
       "      <td>2.678465e-01</td>\n",
       "    </tr>\n",
       "    <tr>\n",
       "      <td>1</td>\n",
       "      <td>prop_white</td>\n",
       "      <td>0.218845</td>\n",
       "      <td>2.188450e-01</td>\n",
       "    </tr>\n",
       "    <tr>\n",
       "      <td>11</td>\n",
       "      <td>gov_party</td>\n",
       "      <td>-0.203038</td>\n",
       "      <td>2.030378e-01</td>\n",
       "    </tr>\n",
       "    <tr>\n",
       "      <td>6</td>\n",
       "      <td>prop_ba</td>\n",
       "      <td>0.172722</td>\n",
       "      <td>1.727218e-01</td>\n",
       "    </tr>\n",
       "    <tr>\n",
       "      <td>13</td>\n",
       "      <td>Mar-19</td>\n",
       "      <td>-0.154737</td>\n",
       "      <td>1.547369e-01</td>\n",
       "    </tr>\n",
       "    <tr>\n",
       "      <td>7</td>\n",
       "      <td>prop_services</td>\n",
       "      <td>0.116795</td>\n",
       "      <td>1.167948e-01</td>\n",
       "    </tr>\n",
       "    <tr>\n",
       "      <td>4</td>\n",
       "      <td>log_med_income</td>\n",
       "      <td>-0.0960348</td>\n",
       "      <td>9.603484e-02</td>\n",
       "    </tr>\n",
       "    <tr>\n",
       "      <td>10</td>\n",
       "      <td>Testing_Rate</td>\n",
       "      <td>-0.0945844</td>\n",
       "      <td>9.458437e-02</td>\n",
       "    </tr>\n",
       "    <tr>\n",
       "      <td>14</td>\n",
       "      <td>days_closed</td>\n",
       "      <td>-0.063414</td>\n",
       "      <td>6.341403e-02</td>\n",
       "    </tr>\n",
       "    <tr>\n",
       "      <td>8</td>\n",
       "      <td>pop_density</td>\n",
       "      <td>0.0597334</td>\n",
       "      <td>5.973340e-02</td>\n",
       "    </tr>\n",
       "    <tr>\n",
       "      <td>5</td>\n",
       "      <td>prop_no_internet</td>\n",
       "      <td>2.01108e-05</td>\n",
       "      <td>2.011078e-05</td>\n",
       "    </tr>\n",
       "    <tr>\n",
       "      <td>9</td>\n",
       "      <td>covid_cases</td>\n",
       "      <td>-1.50448e-05</td>\n",
       "      <td>1.504483e-05</td>\n",
       "    </tr>\n",
       "    <tr>\n",
       "      <td>0</td>\n",
       "      <td>total_pop</td>\n",
       "      <td>3.8372e-07</td>\n",
       "      <td>3.837196e-07</td>\n",
       "    </tr>\n",
       "  </tbody>\n",
       "</table>\n",
       "</div>"
      ],
      "text/plain": [
       "             feature  coefficient  coefficient (absolute)\n",
       "2         prop_black     0.406446            4.064456e-01\n",
       "3          prop_hisp     0.332707            3.327068e-01\n",
       "12     election_diff     0.267847            2.678465e-01\n",
       "1         prop_white     0.218845            2.188450e-01\n",
       "11         gov_party    -0.203038            2.030378e-01\n",
       "6            prop_ba     0.172722            1.727218e-01\n",
       "13            Mar-19    -0.154737            1.547369e-01\n",
       "7      prop_services     0.116795            1.167948e-01\n",
       "4     log_med_income   -0.0960348            9.603484e-02\n",
       "10      Testing_Rate   -0.0945844            9.458437e-02\n",
       "14       days_closed    -0.063414            6.341403e-02\n",
       "8        pop_density    0.0597334            5.973340e-02\n",
       "5   prop_no_internet  2.01108e-05            2.011078e-05\n",
       "9        covid_cases -1.50448e-05            1.504483e-05\n",
       "0          total_pop   3.8372e-07            3.837196e-07"
      ]
     },
     "execution_count": 23,
     "metadata": {},
     "output_type": "execute_result"
    }
   ],
   "source": [
    "print(grid_model_result.best_estimator_, '\\n')\n",
    "\n",
    "# Evaluate model\n",
    "mse, r2, adj = pipe.evaluate_model(grid_model, test_features, test_target)\n",
    "\n",
    "d = {'model': grid_model_result,\n",
    "     'mse': mse,\n",
    "     'r2': r2}\n",
    "\n",
    "best_models['ridge'] = d\n",
    "\n",
    "# Rank coefficients\n",
    "pipe.rank_coefs(grid_model_result, train_features.columns)"
   ]
  },
  {
   "cell_type": "markdown",
   "metadata": {},
   "source": [
    "### Lasso"
   ]
  },
  {
   "cell_type": "code",
   "execution_count": null,
   "metadata": {},
   "outputs": [],
   "source": [
    "# Lasso\n",
    "pipeline = Pipeline([\n",
    "    ('poly', PolynomialFeatures(include_bias=False)),\n",
    "    ('lasso', Lasso(alpha=0.1))\n",
    "])\n",
    "\n",
    "params = {\n",
    "          'lasso__alpha': alpha_range,\n",
    "          'poly__degree': (1,2)\n",
    "         }\n",
    "\n",
    "grid_model, grid_model_result, cv_results = pipe.run_gridsearch(pipeline, params, train_features, train_target, verbose=1)\n",
    "\n",
    "cv_results"
   ]
  },
  {
   "cell_type": "code",
   "execution_count": null,
   "metadata": {},
   "outputs": [],
   "source": [
    "print(grid_model_result.best_estimator_, '\\n')\n",
    "\n",
    "# Evaluate model\n",
    "mse, r2, adj = pipe.evaluate_model(grid_model, test_features, test_target)\n",
    "\n",
    "d = {'model': grid_model_result,\n",
    "     'mse': mse,\n",
    "     'r2': r2}\n",
    "\n",
    "best_models['lasso'] = d\n",
    "\n",
    "# Rank coefficients\n",
    "pipe.rank_coefs(grid_model_result, train_features.columns)"
   ]
  },
  {
   "cell_type": "markdown",
   "metadata": {},
   "source": [
    "### Linear Regression"
   ]
  },
  {
   "cell_type": "code",
   "execution_count": null,
   "metadata": {},
   "outputs": [],
   "source": [
    "pipeline_l = Pipeline([\n",
    "    ('poly', PolynomialFeatures(include_bias=False)), ('linreg', LinearRegression())\n",
    "])\n",
    "\n",
    "params_l = {\n",
    "          'poly__degree': (1,2)\n",
    "         }\n",
    "\n",
    "grid_model, grid_model_result, cv_results = pipe.run_gridsearch(pipeline, params, train_features, train_target, verbose=1)\n",
    "\n",
    "cv_results"
   ]
  },
  {
   "cell_type": "code",
   "execution_count": null,
   "metadata": {},
   "outputs": [],
   "source": [
    "print(grid_model_result.best_estimator_, '\\n')\n",
    "\n",
    "# Evaluate model\n",
    "mse, r2, adj = pipe.evaluate_model(grid_model, test_features, test_target)\n",
    "\n",
    "d = {'model': grid_model_result,\n",
    "     'mse': mse,\n",
    "     'r2': r2}\n",
    "\n",
    "best_models['linear'] = d\n",
    "\n",
    "# Rank coefficients\n",
    "pipe.rank_coefs(grid_model_result, train_features.columns)"
   ]
  },
  {
   "cell_type": "markdown",
   "metadata": {},
   "source": [
    "### Elastic Net"
   ]
  },
  {
   "cell_type": "code",
   "execution_count": null,
   "metadata": {},
   "outputs": [],
   "source": [
    "pipeline_l = Pipeline([\n",
    "    ('poly', PolynomialFeatures(include_bias=False)), ('en',ElasticNet())\n",
    "])\n",
    "\n",
    "params_l = {'en__alpha': alpha_range,\n",
    "          'poly__degree': (1,2)\n",
    "         }\n",
    "\n",
    "grid_model, grid_model_result, cv_results = pipe.run_gridsearch(pipeline, params, train_features, train_target, verbose=1)\n",
    "\n",
    "cv_results"
   ]
  },
  {
   "cell_type": "code",
   "execution_count": null,
   "metadata": {},
   "outputs": [],
   "source": [
    "print(grid_model_result.best_estimator_, '\\n')\n",
    "\n",
    "# Evaluate model\n",
    "pipe.evaluate_model(grid_model, test_features, test_target)\n",
    "\n",
    "mse, r2, adj = pipe.evaluate_model(grid_model, test_features, test_target)\n",
    "\n",
    "d = {'model': grid_model_result,\n",
    "     'mse': mse,\n",
    "     'r2': r2}\n",
    "\n",
    "best_models['en'] = d\n",
    "\n",
    "# Rank coefficients\n",
    "pipe.rank_coefs(grid_model_result, train_features.columns)"
   ]
  },
  {
   "cell_type": "code",
   "execution_count": null,
   "metadata": {},
   "outputs": [],
   "source": [
    "best_models"
   ]
  }
 ],
 "metadata": {
  "kernelspec": {
   "display_name": "Python 3.8.2 64-bit",
   "language": "python",
   "name": "python38264bit654844e040fc4b1482c093d0bb4bad89"
  },
  "language_info": {
   "codemirror_mode": {
    "name": "ipython",
    "version": 3
   },
   "file_extension": ".py",
   "mimetype": "text/x-python",
   "name": "python",
   "nbconvert_exporter": "python",
   "pygments_lexer": "ipython3",
   "version": "3.8.2-final"
  }
 },
 "nbformat": 4,
 "nbformat_minor": 2
}