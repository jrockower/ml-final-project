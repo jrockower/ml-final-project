{
 "cells": [
  {
   "cell_type": "code",
   "execution_count": 1,
   "metadata": {},
   "outputs": [],
   "source": [
    "# YOUR CODE HERE\n",
    "%load_ext autoreload\n",
    "%autoreload 2\n",
    "import pandas as pd\n",
    "import numpy as np\n",
    "import matplotlib.pyplot as plt\n",
    "import matplotlib.pylab as pltlab\n",
    "import seaborn as sns\n",
    "from sklearn.model_selection import train_test_split\n",
    "import calendar\n",
    "import geopandas as gpd\n",
    "import censusdata\n",
    "import warnings\n",
    "import pipeline as pl\n",
    "warnings.filterwarnings('ignore')\n",
    "\n",
    "%matplotlib inline\n",
    "\n",
    "sns.set(rc={'figure.figsize':(11, 4)})"
   ]
  },
  {
   "cell_type": "code",
   "execution_count": 2,
   "metadata": {},
   "outputs": [],
   "source": [
    "data = pd.read_pickle('data/final_dataset.pk1')"
   ]
  },
  {
   "cell_type": "code",
   "execution_count": 22,
   "metadata": {},
   "outputs": [
    {
     "output_type": "execute_result",
     "data": {
      "text/plain": "Empty DataFrame\nColumns: [name, total_pop, median_income, state, county, county_name, state_name, prop_white, prop_black, prop_hisp, log_med_income, prop_no_internet, prop_ba, prop_services, pop_density, FIPS, covid_cases, Testing_Rate, gov_party, election_diff, Apr-19, Mar-19, Feb-20, Mar-20, days_closed, yearly_change, monthly_change]\nIndex: []\n\n[0 rows x 27 columns]",
      "text/html": "<div>\n<style scoped>\n    .dataframe tbody tr th:only-of-type {\n        vertical-align: middle;\n    }\n\n    .dataframe tbody tr th {\n        vertical-align: top;\n    }\n\n    .dataframe thead th {\n        text-align: right;\n    }\n</style>\n<table border=\"1\" class=\"dataframe\">\n  <thead>\n    <tr style=\"text-align: right;\">\n      <th></th>\n      <th>name</th>\n      <th>total_pop</th>\n      <th>median_income</th>\n      <th>state</th>\n      <th>county</th>\n      <th>county_name</th>\n      <th>state_name</th>\n      <th>prop_white</th>\n      <th>prop_black</th>\n      <th>prop_hisp</th>\n      <th>...</th>\n      <th>Testing_Rate</th>\n      <th>gov_party</th>\n      <th>election_diff</th>\n      <th>Apr-19</th>\n      <th>Mar-19</th>\n      <th>Feb-20</th>\n      <th>Mar-20</th>\n      <th>days_closed</th>\n      <th>yearly_change</th>\n      <th>monthly_change</th>\n    </tr>\n  </thead>\n  <tbody>\n  </tbody>\n</table>\n<p>0 rows × 27 columns</p>\n</div>"
     },
     "metadata": {},
     "execution_count": 22
    }
   ],
   "source": [
    "data.head()"
   ]
  },
  {
   "cell_type": "code",
   "execution_count": 5,
   "metadata": {},
   "outputs": [
    {
     "output_type": "stream",
     "name": "stdout",
     "text": "total_pop  median_income   prop_white   prop_black    prop_hisp  \\\ncount  2.826000e+03    2825.000000  2826.000000  2826.000000  2826.000000   \nmean   1.117590e+05   51714.241416     0.827329     0.098748     0.091962   \nstd    3.414925e+05   13821.224638     0.164131     0.149708     0.135249   \nmin    4.180000e+02   20188.000000     0.093534     0.000000     0.000000   \n25%    1.412200e+04   42491.000000     0.757614     0.008110     0.021500   \n50%    3.013550e+04   49936.000000     0.889050     0.028182     0.041568   \n75%    7.725500e+04   57886.000000     0.947572     0.117748     0.095686   \nmax    1.009805e+07  136268.000000     0.997743     0.874123     0.990688   \n\n       log_med_income  prop_no_internet      prop_ba  prop_services  \\\ncount     2825.000000       2826.000000  2826.000000    2825.000000   \nmean        10.821023          0.225514     0.217787       0.083571   \nstd          0.251809          0.086132     0.096556       0.034479   \nmin          9.912844          0.027967     0.053803       0.000000   \n25%         10.657048          0.165563     0.149494       0.062781   \n50%         10.818497          0.214964     0.192582       0.079282   \n75%         10.966231          0.274592     0.261927       0.097530   \nmax         11.822379          0.684243     0.785314       0.387533   \n\n        pop_density  ...  Testing_Rate    gov_party  election_diff  \\\ncount   2826.000000  ...   2826.000000  2826.000000    2826.000000   \nmean     267.786693  ...   1890.819417     0.556263       0.296498   \nstd     1596.216056  ...    859.761925     0.496912       0.304117   \nmin        0.308166  ...    986.245241     0.000000      -0.867763   \n25%       22.683588  ...   1369.571514     0.000000       0.128959   \n50%       51.470442  ...   1594.896734     1.000000       0.360888   \n75%      138.178441  ...   2262.597463     1.000000       0.523936   \nmax    71886.166433  ...   6014.002781     1.000000       0.909747   \n\n            Apr-19       Mar-19       Feb-20       Mar-20  days_closed  \\\ncount  2826.000000  2826.000000  2826.000000  2826.000000  1929.000000   \nmean      3.617127     4.353255     4.314260     4.845683    22.266459   \nstd       1.348881     1.576551     1.685408     1.879948     9.072753   \nmin       1.200000     1.300000     1.400000     1.300000     0.000000   \n25%       2.700000     3.300000     3.200000     3.600000    21.000000   \n50%       3.300000     4.000000     3.900000     4.500000    26.000000   \n75%       4.200000     5.000000     5.000000     5.700000    27.000000   \nmax      15.700000    20.600000    19.800000    22.400000    33.000000   \n\n       yearly_change  monthly_change  \ncount    2826.000000     2826.000000  \nmean        0.125639        0.137390  \nstd         0.232861        0.187900  \nmin        -0.468750       -0.346154  \n25%        -0.050000       -0.015565  \n50%         0.109091        0.132704  \n75%         0.282051        0.255319  \nmax         1.187500        1.466667  \n\n[8 rows x 22 columns]\n                  total_pop  median_income  prop_white  prop_black  prop_hisp  \\\ntotal_pop          1.000000       0.269932   -0.186771    0.056704   0.210049   \nmedian_income      0.269932       1.000000    0.166882   -0.284362   0.069853   \nprop_white        -0.186771       0.166882    1.000000   -0.857407  -0.066447   \nprop_black         0.056704      -0.284362   -0.857407    1.000000  -0.121514   \nprop_hisp          0.210049       0.069853   -0.066447   -0.121514   1.000000   \nlog_med_income     0.256607       0.978473    0.241223   -0.351276   0.064081   \nprop_no_internet  -0.263802      -0.759246   -0.298780    0.375591  -0.019595   \nprop_ba            0.331352       0.714795   -0.002856   -0.104907   0.008376   \nprop_services      0.126641       0.075720   -0.105423   -0.041102   0.115680   \npop_density        0.280445       0.192239   -0.147036    0.075488   0.069477   \nFIPS              -0.059449       0.089720    0.109872   -0.136054   0.072019   \ncovid_cases        0.367850       0.157046   -0.101382    0.039934   0.079770   \nTesting_Rate       0.032034       0.053950    0.001674   -0.023833  -0.069292   \ngov_party         -0.061390      -0.159998   -0.075027    0.124429   0.022418   \nelection_diff     -0.342477      -0.194611    0.570168   -0.451889  -0.186385   \nApr-19            -0.061286      -0.389038   -0.178933    0.153742   0.018728   \nMar-19            -0.078955      -0.365438   -0.099197    0.095445  -0.021353   \nFeb-20            -0.088136      -0.387935   -0.087442    0.097116  -0.011514   \nMar-20            -0.040744      -0.392381   -0.107482    0.126215   0.101617   \ndays_closed        0.154820       0.117117    0.038838   -0.058482   0.135057   \nyearly_change      0.058426      -0.073891   -0.018877    0.055019   0.239693   \nmonthly_change     0.132431       0.022212   -0.049266    0.070328   0.266243   \n\n                  log_med_income  prop_no_internet   prop_ba  prop_services  \\\ntotal_pop               0.256607         -0.263802  0.331352       0.126641   \nmedian_income           0.978473         -0.759246  0.714795       0.075720   \nprop_white              0.241223         -0.298780 -0.002856      -0.105423   \nprop_black             -0.351276          0.375591 -0.104907      -0.041102   \nprop_hisp               0.064081         -0.019595  0.008376       0.115680   \nlog_med_income          1.000000         -0.803758  0.684522       0.085852   \nprop_no_internet       -0.803758          1.000000 -0.705181      -0.247512   \nprop_ba                 0.684522         -0.705181  1.000000       0.336952   \nprop_services           0.085852         -0.247512  0.336952       1.000000   \npop_density             0.168713         -0.142951  0.277017       0.067329   \nFIPS                    0.103823         -0.057855  0.040001      -0.000470   \ncovid_cases             0.138569         -0.096465  0.189062       0.031413   \nTesting_Rate            0.040422         -0.003609  0.071333       0.047514   \ngov_party              -0.159384          0.184097 -0.184716      -0.138580   \nelection_diff          -0.138177          0.158552 -0.481903      -0.327102   \nApr-19                 -0.418828          0.333119 -0.301104       0.098300   \nMar-19                 -0.386143          0.298914 -0.315933       0.067128   \nFeb-20                 -0.416663          0.350176 -0.354602       0.036231   \nMar-20                 -0.426781          0.354360 -0.345967       0.048970   \ndays_closed             0.117439         -0.170950  0.094331       0.184715   \nyearly_change          -0.094830          0.109972 -0.079168       0.021806   \nmonthly_change          0.008683         -0.027905  0.064808       0.088435   \n\n                  pop_density  ...  Testing_Rate  gov_party  election_diff  \\\ntotal_pop            0.280445  ...      0.032034  -0.061390      -0.342477   \nmedian_income        0.192239  ...      0.053950  -0.159998      -0.194611   \nprop_white          -0.147036  ...      0.001674  -0.075027       0.570168   \nprop_black           0.075488  ...     -0.023833   0.124429      -0.451889   \nprop_hisp            0.069477  ...     -0.069292   0.022418      -0.186385   \nlog_med_income       0.168713  ...      0.040422  -0.159384      -0.138177   \nprop_no_internet    -0.142951  ...     -0.003609   0.184097       0.158552   \nprop_ba              0.277017  ...      0.071333  -0.184716      -0.481903   \nprop_services        0.067329  ...      0.047514  -0.138580      -0.327102   \npop_density          1.000000  ...      0.076038  -0.072011      -0.266528   \nFIPS                 0.022508  ...      0.076656  -0.022870       0.043857   \ncovid_cases          0.859531  ...      0.153045  -0.060156      -0.185643   \nTesting_Rate         0.076038  ...      1.000000  -0.088568      -0.088269   \ngov_party           -0.072011  ...     -0.088568   1.000000       0.218061   \nelection_diff       -0.266528  ...     -0.088269   0.218061       1.000000   \nApr-19              -0.059434  ...      0.188780  -0.201594      -0.139971   \nMar-19              -0.065701  ...      0.153330  -0.237907      -0.103668   \nFeb-20              -0.073067  ...      0.160368  -0.147306      -0.062423   \nMar-20              -0.058614  ...      0.100100  -0.132516      -0.054385   \ndays_closed          0.073062  ...      0.011088  -0.474009      -0.224394   \nyearly_change       -0.000954  ...     -0.089299   0.142408       0.075013   \nmonthly_change       0.042683  ...     -0.161837   0.046671      -0.002324   \n\n                    Apr-19    Mar-19    Feb-20    Mar-20  days_closed  \\\ntotal_pop        -0.061286 -0.078955 -0.088136 -0.040744     0.154820   \nmedian_income    -0.389038 -0.365438 -0.387935 -0.392381     0.117117   \nprop_white       -0.178933 -0.099197 -0.087442 -0.107482     0.038838   \nprop_black        0.153742  0.095445  0.097116  0.126215    -0.058482   \nprop_hisp         0.018728 -0.021353 -0.011514  0.101617     0.135057   \nlog_med_income   -0.418828 -0.386143 -0.416663 -0.426781     0.117439   \nprop_no_internet  0.333119  0.298914  0.350176  0.354360    -0.170950   \nprop_ba          -0.301104 -0.315933 -0.354602 -0.345967     0.094331   \nprop_services     0.098300  0.067128  0.036231  0.048970     0.184715   \npop_density      -0.059434 -0.065701 -0.073067 -0.058614     0.073062   \nFIPS             -0.015713 -0.021934  0.071963 -0.025181    -0.048736   \ncovid_cases      -0.026977 -0.033379 -0.037439 -0.028655     0.072886   \nTesting_Rate      0.188780  0.153330  0.160368  0.100100     0.011088   \ngov_party        -0.201594 -0.237907 -0.147306 -0.132516    -0.474009   \nelection_diff    -0.139971 -0.103668 -0.062423 -0.054385    -0.224394   \nApr-19            1.000000  0.950916  0.890895  0.829507     0.141719   \nMar-19            0.950916  1.000000  0.915003  0.824815     0.208325   \nFeb-20            0.890895  0.915003  1.000000  0.912574     0.138675   \nMar-20            0.829507  0.824815  0.912574  1.000000     0.136042   \ndays_closed       0.141719  0.208325  0.138675  0.136042     1.000000   \nyearly_change    -0.070715 -0.148534  0.103918  0.401967    -0.119449   \nmonthly_change   -0.138975 -0.200006 -0.193674  0.195253    -0.043225   \n\n                  yearly_change  monthly_change  \ntotal_pop              0.058426        0.132431  \nmedian_income         -0.073891        0.022212  \nprop_white            -0.018877       -0.049266  \nprop_black             0.055019        0.070328  \nprop_hisp              0.239693        0.266243  \nlog_med_income        -0.094830        0.008683  \nprop_no_internet       0.109972       -0.027905  \nprop_ba               -0.079168        0.064808  \nprop_services          0.021806        0.088435  \npop_density           -0.000954        0.042683  \nFIPS                  -0.008821       -0.207025  \ncovid_cases            0.000355        0.028374  \nTesting_Rate          -0.089299       -0.161837  \ngov_party              0.142408        0.046671  \nelection_diff          0.075013       -0.002324  \nApr-19                -0.070715       -0.138975  \nMar-19                -0.148534       -0.200006  \nFeb-20                 0.103918       -0.193674  \nMar-20                 0.401967        0.195253  \ndays_closed           -0.119449       -0.043225  \nyearly_change          1.000000        0.747810  \nmonthly_change         0.747810        1.000000  \n\n[22 rows x 22 columns]\n"
    }
   ],
   "source": [
    "pl.get_summary_stats(data)"
   ]
  },
  {
   "cell_type": "code",
   "execution_count": 24,
   "metadata": {},
   "outputs": [
    {
     "output_type": "stream",
     "name": "stdout",
     "text": "2260\n566\n"
    }
   ],
   "source": [
    "train, test = train_test_split(data, random_state=246012349, test_size=0.2)\n",
    "print(len(train))\n",
    "print(len(test))"
   ]
  },
  {
   "cell_type": "code",
   "execution_count": 25,
   "metadata": {},
   "outputs": [
    {
     "output_type": "stream",
     "name": "stdout",
     "text": "Imputing median_income missing values with median 49977.0\nImputing log_med_income missing values with median 10.819318178577827\nImputing prop_services missing values with median 0.0790869921304704\nImputing days_closed missing values with median 26.0\n"
    }
   ],
   "source": [
    "train.dtypes\n",
    "numeric_cols = train.select_dtypes(include=['float64']).columns.drop(['FIPS'])\n",
    "train, test = pl.impute_missing(train, test, numeric_cols)"
   ]
  },
  {
   "cell_type": "code",
   "execution_count": null,
   "metadata": {},
   "outputs": [],
   "source": [
    "train, scaler = pl."
   ]
  }
 ],
 "metadata": {
  "kernelspec": {
   "display_name": "Python 3.8.2 64-bit",
   "language": "python",
   "name": "python38264bit654844e040fc4b1482c093d0bb4bad89"
  },
  "language_info": {
   "codemirror_mode": {
    "name": "ipython",
    "version": 3
   },
   "file_extension": ".py",
   "mimetype": "text/x-python",
   "name": "python",
   "nbconvert_exporter": "python",
   "pygments_lexer": "ipython3",
   "version": "3.8.2-final"
  }
 },
 "nbformat": 4,
 "nbformat_minor": 2
}