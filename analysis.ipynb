{
 "cells": [
  {
   "cell_type": "code",
   "execution_count": 32,
   "metadata": {},
   "outputs": [
    {
     "output_type": "stream",
     "name": "stdout",
     "text": "The autoreload extension is already loaded. To reload it, use:\n  %reload_ext autoreload\n"
    }
   ],
   "source": [
    "# YOUR CODE HERE\n",
    "%load_ext autoreload\n",
    "%autoreload 2\n",
    "import pandas as pd\n",
    "import numpy as np\n",
    "import matplotlib.pyplot as plt\n",
    "import matplotlib.pylab as pltlab\n",
    "import seaborn as sns\n",
    "from sklearn.model_selection import train_test_split\n",
    "import calendar\n",
    "import geopandas as gpd\n",
    "import censusdata\n",
    "import warnings\n",
    "import pipeline as pipe\n",
    "warnings.filterwarnings('ignore')\n",
    "\n",
    "%matplotlib inline\n",
    "\n",
    "sns.set(rc={'figure.figsize':(11, 4)})"
   ]
  },
  {
   "cell_type": "code",
   "execution_count": 33,
   "metadata": {},
   "outputs": [],
   "source": [
    "data = pd.read_pickle('data/final_dataset.pk1')"
   ]
  },
  {
   "cell_type": "code",
   "execution_count": 34,
   "metadata": {},
   "outputs": [
    {
     "output_type": "execute_result",
     "data": {
      "text/plain": "                             name  total_pop  median_income state county  \\\n0  Washington County, Mississippi      47086        30834.0    28    151   \n1       Perry County, Mississippi      12028        39007.0    28    111   \n2     Choctaw County, Mississippi       8321        37203.0    28    019   \n3    Itawamba County, Mississippi      23480        40510.0    28    057   \n4     Carroll County, Mississippi      10129        43060.0    28    015   \n\n  county_name   state_name  prop_white  prop_black  prop_hisp  ...  \\\n0  Washington  Mississippi    0.256913    0.721701   0.015482  ...   \n1       Perry  Mississippi    0.787745    0.196874   0.015048  ...   \n2     Choctaw  Mississippi    0.676722    0.311982   0.003966  ...   \n3    Itawamba  Mississippi    0.909114    0.071593   0.015332  ...   \n4     Carroll  Mississippi    0.643992    0.345839   0.002863  ...   \n\n   Testing_Rate  gov_party  election_diff  Apr-19  Mar-19  Feb-20  Mar-20  \\\n0   2291.374085          1      -0.364695     6.4     7.5     7.4     7.0   \n1   2291.374085          1       0.536635     5.7     6.2     6.8     6.3   \n2   2291.374085          1       0.386224     4.8     5.3     5.4     5.0   \n3   2291.374085          1       0.755161     4.1     4.4     4.7     4.7   \n4   2291.374085          1       0.383321     5.5     5.8     6.2     6.0   \n\n   days_closed  yearly_change  monthly_change  \n0         17.0      -0.066667       -0.054054  \n1         17.0       0.016129       -0.073529  \n2         17.0      -0.056604       -0.074074  \n3         17.0       0.068182        0.000000  \n4         17.0       0.034483       -0.032258  \n\n[5 rows x 27 columns]",
      "text/html": "<div>\n<style scoped>\n    .dataframe tbody tr th:only-of-type {\n        vertical-align: middle;\n    }\n\n    .dataframe tbody tr th {\n        vertical-align: top;\n    }\n\n    .dataframe thead th {\n        text-align: right;\n    }\n</style>\n<table border=\"1\" class=\"dataframe\">\n  <thead>\n    <tr style=\"text-align: right;\">\n      <th></th>\n      <th>name</th>\n      <th>total_pop</th>\n      <th>median_income</th>\n      <th>state</th>\n      <th>county</th>\n      <th>county_name</th>\n      <th>state_name</th>\n      <th>prop_white</th>\n      <th>prop_black</th>\n      <th>prop_hisp</th>\n      <th>...</th>\n      <th>Testing_Rate</th>\n      <th>gov_party</th>\n      <th>election_diff</th>\n      <th>Apr-19</th>\n      <th>Mar-19</th>\n      <th>Feb-20</th>\n      <th>Mar-20</th>\n      <th>days_closed</th>\n      <th>yearly_change</th>\n      <th>monthly_change</th>\n    </tr>\n  </thead>\n  <tbody>\n    <tr>\n      <th>0</th>\n      <td>Washington County, Mississippi</td>\n      <td>47086</td>\n      <td>30834.0</td>\n      <td>28</td>\n      <td>151</td>\n      <td>Washington</td>\n      <td>Mississippi</td>\n      <td>0.256913</td>\n      <td>0.721701</td>\n      <td>0.015482</td>\n      <td>...</td>\n      <td>2291.374085</td>\n      <td>1</td>\n      <td>-0.364695</td>\n      <td>6.4</td>\n      <td>7.5</td>\n      <td>7.4</td>\n      <td>7.0</td>\n      <td>17.0</td>\n      <td>-0.066667</td>\n      <td>-0.054054</td>\n    </tr>\n    <tr>\n      <th>1</th>\n      <td>Perry County, Mississippi</td>\n      <td>12028</td>\n      <td>39007.0</td>\n      <td>28</td>\n      <td>111</td>\n      <td>Perry</td>\n      <td>Mississippi</td>\n      <td>0.787745</td>\n      <td>0.196874</td>\n      <td>0.015048</td>\n      <td>...</td>\n      <td>2291.374085</td>\n      <td>1</td>\n      <td>0.536635</td>\n      <td>5.7</td>\n      <td>6.2</td>\n      <td>6.8</td>\n      <td>6.3</td>\n      <td>17.0</td>\n      <td>0.016129</td>\n      <td>-0.073529</td>\n    </tr>\n    <tr>\n      <th>2</th>\n      <td>Choctaw County, Mississippi</td>\n      <td>8321</td>\n      <td>37203.0</td>\n      <td>28</td>\n      <td>019</td>\n      <td>Choctaw</td>\n      <td>Mississippi</td>\n      <td>0.676722</td>\n      <td>0.311982</td>\n      <td>0.003966</td>\n      <td>...</td>\n      <td>2291.374085</td>\n      <td>1</td>\n      <td>0.386224</td>\n      <td>4.8</td>\n      <td>5.3</td>\n      <td>5.4</td>\n      <td>5.0</td>\n      <td>17.0</td>\n      <td>-0.056604</td>\n      <td>-0.074074</td>\n    </tr>\n    <tr>\n      <th>3</th>\n      <td>Itawamba County, Mississippi</td>\n      <td>23480</td>\n      <td>40510.0</td>\n      <td>28</td>\n      <td>057</td>\n      <td>Itawamba</td>\n      <td>Mississippi</td>\n      <td>0.909114</td>\n      <td>0.071593</td>\n      <td>0.015332</td>\n      <td>...</td>\n      <td>2291.374085</td>\n      <td>1</td>\n      <td>0.755161</td>\n      <td>4.1</td>\n      <td>4.4</td>\n      <td>4.7</td>\n      <td>4.7</td>\n      <td>17.0</td>\n      <td>0.068182</td>\n      <td>0.000000</td>\n    </tr>\n    <tr>\n      <th>4</th>\n      <td>Carroll County, Mississippi</td>\n      <td>10129</td>\n      <td>43060.0</td>\n      <td>28</td>\n      <td>015</td>\n      <td>Carroll</td>\n      <td>Mississippi</td>\n      <td>0.643992</td>\n      <td>0.345839</td>\n      <td>0.002863</td>\n      <td>...</td>\n      <td>2291.374085</td>\n      <td>1</td>\n      <td>0.383321</td>\n      <td>5.5</td>\n      <td>5.8</td>\n      <td>6.2</td>\n      <td>6.0</td>\n      <td>17.0</td>\n      <td>0.034483</td>\n      <td>-0.032258</td>\n    </tr>\n  </tbody>\n</table>\n<p>5 rows × 27 columns</p>\n</div>"
     },
     "metadata": {},
     "execution_count": 34
    }
   ],
   "source": [
    "data.head()"
   ]
  },
  {
   "cell_type": "code",
   "execution_count": 35,
   "metadata": {},
   "outputs": [
    {
     "output_type": "stream",
     "name": "stdout",
     "text": "total_pop  median_income   prop_white   prop_black    prop_hisp  \\\ncount  2.826000e+03    2825.000000  2826.000000  2826.000000  2826.000000   \nmean   1.117590e+05   51714.241416     0.827329     0.098748     0.091962   \nstd    3.414925e+05   13821.224638     0.164131     0.149708     0.135249   \nmin    4.180000e+02   20188.000000     0.093534     0.000000     0.000000   \n25%    1.412200e+04   42491.000000     0.757614     0.008110     0.021500   \n50%    3.013550e+04   49936.000000     0.889050     0.028182     0.041568   \n75%    7.725500e+04   57886.000000     0.947572     0.117748     0.095686   \nmax    1.009805e+07  136268.000000     0.997743     0.874123     0.990688   \n\n       log_med_income  prop_no_internet      prop_ba  prop_services  \\\ncount     2825.000000       2826.000000  2826.000000    2825.000000   \nmean        10.821023          0.225514     0.217787       0.083571   \nstd          0.251809          0.086132     0.096556       0.034479   \nmin          9.912844          0.027967     0.053803       0.000000   \n25%         10.657048          0.165563     0.149494       0.062781   \n50%         10.818497          0.214964     0.192582       0.079282   \n75%         10.966231          0.274592     0.261927       0.097530   \nmax         11.822379          0.684243     0.785314       0.387533   \n\n        pop_density  ...  Testing_Rate    gov_party  election_diff  \\\ncount   2826.000000  ...   2826.000000  2826.000000    2826.000000   \nmean     267.786693  ...   1890.819417     0.556263       0.296498   \nstd     1596.216056  ...    859.761925     0.496912       0.304117   \nmin        0.308166  ...    986.245241     0.000000      -0.867763   \n25%       22.683588  ...   1369.571514     0.000000       0.128959   \n50%       51.470442  ...   1594.896734     1.000000       0.360888   \n75%      138.178441  ...   2262.597463     1.000000       0.523936   \nmax    71886.166433  ...   6014.002781     1.000000       0.909747   \n\n            Apr-19       Mar-19       Feb-20       Mar-20  days_closed  \\\ncount  2826.000000  2826.000000  2826.000000  2826.000000  2826.000000   \nmean      3.617127     4.353255     4.314260     4.845683    21.397028   \nstd       1.348881     1.576551     1.685408     1.879948     7.934255   \nmin       1.200000     1.300000     1.400000     1.300000     0.000000   \n25%       2.700000     3.300000     3.200000     3.600000    19.000000   \n50%       3.300000     4.000000     3.900000     4.500000    23.000000   \n75%       4.200000     5.000000     5.000000     5.700000    27.000000   \nmax      15.700000    20.600000    19.800000    22.400000    33.000000   \n\n       yearly_change  monthly_change  \ncount    2826.000000     2826.000000  \nmean        0.125639        0.137390  \nstd         0.232861        0.187900  \nmin        -0.468750       -0.346154  \n25%        -0.050000       -0.015565  \n50%         0.109091        0.132704  \n75%         0.282051        0.255319  \nmax         1.187500        1.466667  \n\n[8 rows x 22 columns]\n                  total_pop  median_income  prop_white  prop_black  prop_hisp  \\\ntotal_pop          1.000000       0.269932   -0.186771    0.056704   0.210049   \nmedian_income      0.269932       1.000000    0.166882   -0.284362   0.069853   \nprop_white        -0.186771       0.166882    1.000000   -0.857407  -0.066447   \nprop_black         0.056704      -0.284362   -0.857407    1.000000  -0.121514   \nprop_hisp          0.210049       0.069853   -0.066447   -0.121514   1.000000   \nlog_med_income     0.256607       0.978473    0.241223   -0.351276   0.064081   \nprop_no_internet  -0.263802      -0.759246   -0.298780    0.375591  -0.019595   \nprop_ba            0.331352       0.714795   -0.002856   -0.104907   0.008376   \nprop_services      0.126641       0.075720   -0.105423   -0.041102   0.115680   \npop_density        0.280445       0.192239   -0.147036    0.075488   0.069477   \nFIPS              -0.059449       0.089720    0.109872   -0.136054   0.072019   \ncovid_cases        0.367850       0.157046   -0.101382    0.039934   0.079770   \nTesting_Rate       0.032034       0.053950    0.001674   -0.023833  -0.069292   \ngov_party         -0.061390      -0.159998   -0.075027    0.124429   0.022418   \nelection_diff     -0.342477      -0.194611    0.570168   -0.451889  -0.186385   \nApr-19            -0.061286      -0.389038   -0.178933    0.153742   0.018728   \nMar-19            -0.078955      -0.365438   -0.099197    0.095445  -0.021353   \nFeb-20            -0.088136      -0.387935   -0.087442    0.097116  -0.011514   \nMar-20            -0.040744      -0.392381   -0.107482    0.126215   0.101617   \ndays_closed        0.159802       0.142472    0.064474   -0.081072   0.079148   \nyearly_change      0.058426      -0.073891   -0.018877    0.055019   0.239693   \nmonthly_change     0.132431       0.022212   -0.049266    0.070328   0.266243   \n\n                  log_med_income  prop_no_internet   prop_ba  prop_services  \\\ntotal_pop               0.256607         -0.263802  0.331352       0.126641   \nmedian_income           0.978473         -0.759246  0.714795       0.075720   \nprop_white              0.241223         -0.298780 -0.002856      -0.105423   \nprop_black             -0.351276          0.375591 -0.104907      -0.041102   \nprop_hisp               0.064081         -0.019595  0.008376       0.115680   \nlog_med_income          1.000000         -0.803758  0.684522       0.085852   \nprop_no_internet       -0.803758          1.000000 -0.705181      -0.247512   \nprop_ba                 0.684522         -0.705181  1.000000       0.336952   \nprop_services           0.085852         -0.247512  0.336952       1.000000   \npop_density             0.168713         -0.142951  0.277017       0.067329   \nFIPS                    0.103823         -0.057855  0.040001      -0.000470   \ncovid_cases             0.138569         -0.096465  0.189062       0.031413   \nTesting_Rate            0.040422         -0.003609  0.071333       0.047514   \ngov_party              -0.159384          0.184097 -0.184716      -0.138580   \nelection_diff          -0.138177          0.158552 -0.481903      -0.327102   \nApr-19                 -0.418828          0.333119 -0.301104       0.098300   \nMar-19                 -0.386143          0.298914 -0.315933       0.067128   \nFeb-20                 -0.416663          0.350176 -0.354602       0.036231   \nMar-20                 -0.426781          0.354360 -0.345967       0.048970   \ndays_closed             0.143540         -0.181263  0.122913       0.155218   \nyearly_change          -0.094830          0.109972 -0.079168       0.021806   \nmonthly_change          0.008683         -0.027905  0.064808       0.088435   \n\n                  pop_density  ...  Testing_Rate  gov_party  election_diff  \\\ntotal_pop            0.280445  ...      0.032034  -0.061390      -0.342477   \nmedian_income        0.192239  ...      0.053950  -0.159998      -0.194611   \nprop_white          -0.147036  ...      0.001674  -0.075027       0.570168   \nprop_black           0.075488  ...     -0.023833   0.124429      -0.451889   \nprop_hisp            0.069477  ...     -0.069292   0.022418      -0.186385   \nlog_med_income       0.168713  ...      0.040422  -0.159384      -0.138177   \nprop_no_internet    -0.142951  ...     -0.003609   0.184097       0.158552   \nprop_ba              0.277017  ...      0.071333  -0.184716      -0.481903   \nprop_services        0.067329  ...      0.047514  -0.138580      -0.327102   \npop_density          1.000000  ...      0.076038  -0.072011      -0.266528   \nFIPS                 0.022508  ...      0.076656  -0.022870       0.043857   \ncovid_cases          0.859531  ...      0.153045  -0.060156      -0.185643   \nTesting_Rate         0.076038  ...      1.000000  -0.088568      -0.088269   \ngov_party           -0.072011  ...     -0.088568   1.000000       0.218061   \nelection_diff       -0.266528  ...     -0.088269   0.218061       1.000000   \nApr-19              -0.059434  ...      0.188780  -0.201594      -0.139971   \nMar-19              -0.065701  ...      0.153330  -0.237907      -0.103668   \nFeb-20              -0.073067  ...      0.160368  -0.147306      -0.062423   \nMar-20              -0.058614  ...      0.100100  -0.132516      -0.054385   \ndays_closed          0.077427  ...      0.039961  -0.504145      -0.227868   \nyearly_change       -0.000954  ...     -0.089299   0.142408       0.075013   \nmonthly_change       0.042683  ...     -0.161837   0.046671      -0.002324   \n\n                    Apr-19    Mar-19    Feb-20    Mar-20  days_closed  \\\ntotal_pop        -0.061286 -0.078955 -0.088136 -0.040744     0.159802   \nmedian_income    -0.389038 -0.365438 -0.387935 -0.392381     0.142472   \nprop_white       -0.178933 -0.099197 -0.087442 -0.107482     0.064474   \nprop_black        0.153742  0.095445  0.097116  0.126215    -0.081072   \nprop_hisp         0.018728 -0.021353 -0.011514  0.101617     0.079148   \nlog_med_income   -0.418828 -0.386143 -0.416663 -0.426781     0.143540   \nprop_no_internet  0.333119  0.298914  0.350176  0.354360    -0.181263   \nprop_ba          -0.301104 -0.315933 -0.354602 -0.345967     0.122913   \nprop_services     0.098300  0.067128  0.036231  0.048970     0.155218   \npop_density      -0.059434 -0.065701 -0.073067 -0.058614     0.077427   \nFIPS             -0.015713 -0.021934  0.071963 -0.025181    -0.018871   \ncovid_cases      -0.026977 -0.033379 -0.037439 -0.028655     0.077647   \nTesting_Rate      0.188780  0.153330  0.160368  0.100100     0.039961   \ngov_party        -0.201594 -0.237907 -0.147306 -0.132516    -0.504145   \nelection_diff    -0.139971 -0.103668 -0.062423 -0.054385    -0.227868   \nApr-19            1.000000  0.950916  0.890895  0.829507     0.162987   \nMar-19            0.950916  1.000000  0.915003  0.824815     0.223675   \nFeb-20            0.890895  0.915003  1.000000  0.912574     0.162969   \nMar-20            0.829507  0.824815  0.912574  1.000000     0.154499   \ndays_closed       0.162987  0.223675  0.162969  0.154499     1.000000   \nyearly_change    -0.070715 -0.148534  0.103918  0.401967    -0.094627   \nmonthly_change   -0.138975 -0.200006 -0.193674  0.195253    -0.050461   \n\n                  yearly_change  monthly_change  \ntotal_pop              0.058426        0.132431  \nmedian_income         -0.073891        0.022212  \nprop_white            -0.018877       -0.049266  \nprop_black             0.055019        0.070328  \nprop_hisp              0.239693        0.266243  \nlog_med_income        -0.094830        0.008683  \nprop_no_internet       0.109972       -0.027905  \nprop_ba               -0.079168        0.064808  \nprop_services          0.021806        0.088435  \npop_density           -0.000954        0.042683  \nFIPS                  -0.008821       -0.207025  \ncovid_cases            0.000355        0.028374  \nTesting_Rate          -0.089299       -0.161837  \ngov_party              0.142408        0.046671  \nelection_diff          0.075013       -0.002324  \nApr-19                -0.070715       -0.138975  \nMar-19                -0.148534       -0.200006  \nFeb-20                 0.103918       -0.193674  \nMar-20                 0.401967        0.195253  \ndays_closed           -0.094627       -0.050461  \nyearly_change          1.000000        0.747810  \nmonthly_change         0.747810        1.000000  \n\n[22 rows x 22 columns]\n"
    }
   ],
   "source": [
    "pipe.get_summary_stats(data)"
   ]
  },
  {
   "cell_type": "code",
   "execution_count": 41,
   "metadata": {},
   "outputs": [
    {
     "output_type": "stream",
     "name": "stdout",
     "text": "2260\n566\n"
    }
   ],
   "source": [
    "train, test = train_test_split(data, random_state=246012349, test_size=0.2)\n",
    "print(len(train))\n",
    "print(len(test))"
   ]
  },
  {
   "cell_type": "code",
   "execution_count": 43,
   "metadata": {},
   "outputs": [],
   "source": [
    "train.dtypes\n",
    "numeric_cols = train.select_dtypes(include=['float64']).columns.drop(['FIPS'])\n",
    "train, test = pipe.impute_missing(train, test, numeric_cols)"
   ]
  },
  {
   "cell_type": "code",
   "execution_count": 44,
   "metadata": {},
   "outputs": [],
   "source": [
    "train, test = pipe.normalize(train, test, numeric_cols)"
   ]
  },
  {
   "cell_type": "code",
   "execution_count": 46,
   "metadata": {},
   "outputs": [
    {
     "output_type": "execute_result",
     "data": {
      "text/plain": "          total_pop  median_income    prop_white    prop_black     prop_hisp  \\\ncount  2.260000e+03   2.260000e+03  2.260000e+03  2.260000e+03  2.260000e+03   \nmean   1.088654e+05  -1.823517e-16  3.599874e-16  7.859986e-17  3.143994e-18   \nstd    2.674309e+05   1.000221e+00  1.000221e+00  1.000221e+00  1.000221e+00   \nmin    4.590000e+02  -2.273373e+00 -4.512140e+00 -6.531657e-01 -6.802470e-01   \n25%    1.416950e+04  -6.667247e-01 -4.167850e-01 -5.989420e-01 -5.217171e-01   \n50%    3.038850e+04  -1.271166e-01  3.794700e-01 -4.689987e-01 -3.713675e-01   \n75%    7.944950e+04   4.427878e-01  7.298116e-01  1.191826e-01  3.290488e-02   \nmax    4.602523e+06   6.090030e+00  1.037609e+00  5.254312e+00  6.549744e+00   \n\n       log_med_income  prop_no_internet       prop_ba  prop_services  \\\ncount    2.260000e+03      2.260000e+03  2.260000e+03   2.260000e+03   \nmean     8.504505e-16      7.152587e-17  1.886397e-17   1.689897e-16   \nstd      1.000221e+00      1.000221e+00  1.000221e+00   1.000221e+00   \nmin     -3.592865e+00     -2.279322e+00 -1.682501e+00  -2.477060e+00   \n25%     -6.498845e-01     -6.978496e-01 -7.084033e-01  -5.997382e-01   \n50%     -7.782835e-03     -1.199927e-01 -2.616421e-01  -1.219710e-01   \n75%      5.733211e-01      5.772554e-01  4.485360e-01   4.136571e-01   \nmax      3.959295e+00      5.292440e+00  5.394969e+00   9.063082e+00   \n\n        pop_density  ...  Testing_Rate    gov_party  election_diff  \\\ncount  2.260000e+03  ...  2.260000e+03  2260.000000   2.260000e+03   \nmean  -1.886397e-17  ... -1.634877e-16     0.556637   3.772793e-17   \nstd    1.000221e+00  ...  1.000221e+00     0.496892   1.000221e+00   \nmin   -1.610866e-01  ... -1.051838e+00     0.000000  -3.799412e+00   \n25%   -1.482970e-01  ... -6.081362e-01     0.000000  -5.422928e-01   \n50%   -1.324702e-01  ... -3.473213e-01     1.000000   2.130832e-01   \n75%   -8.327267e-02  ...  4.255450e-01     1.000000   7.547766e-01   \nmax    4.061721e+01  ...  4.767812e+00     1.000000   1.993568e+00   \n\n             Apr-19        Mar-19        Feb-20        Mar-20   days_closed  \\\ncount  2.260000e+03  2.260000e+03  2.260000e+03  2.260000e+03  2.260000e+03   \nmean  -4.150073e-16  6.602388e-17  1.045378e-16 -5.061831e-16 -1.705617e-16   \nstd    1.000221e+00  1.000221e+00  1.000221e+00  1.000221e+00  1.000221e+00   \nmin   -1.741680e+00 -1.882940e+00 -1.683185e+00 -1.832830e+00 -2.709177e+00   \n25%   -6.628759e-01 -6.517974e-01 -6.439991e-01 -6.475640e-01 -3.086970e-01   \n50%   -2.313542e-01 -2.208975e-01 -2.398711e-01 -1.837642e-01  1.966672e-01   \n75%    4.159284e-01  4.562310e-01  3.951871e-01  4.346357e-01  7.020313e-01   \nmax    8.686761e+00  9.997586e+00  8.939607e+00  9.040700e+00  1.460078e+00   \n\n       yearly_change  monthly_change  \ncount   2.260000e+03    2.260000e+03  \nmean    2.986795e-17   -1.100398e-16  \nstd     1.000221e+00    1.000221e+00  \nmin    -2.540270e+00   -2.588353e+00  \n25%    -7.589709e-01   -7.415034e-01  \n50%    -6.605347e-02   -5.594010e-03  \n75%     6.639279e-01    6.233518e-01  \nmax     4.526804e+00    5.927676e+00  \n\n[8 rows x 22 columns]",
      "text/html": "<div>\n<style scoped>\n    .dataframe tbody tr th:only-of-type {\n        vertical-align: middle;\n    }\n\n    .dataframe tbody tr th {\n        vertical-align: top;\n    }\n\n    .dataframe thead th {\n        text-align: right;\n    }\n</style>\n<table border=\"1\" class=\"dataframe\">\n  <thead>\n    <tr style=\"text-align: right;\">\n      <th></th>\n      <th>total_pop</th>\n      <th>median_income</th>\n      <th>prop_white</th>\n      <th>prop_black</th>\n      <th>prop_hisp</th>\n      <th>log_med_income</th>\n      <th>prop_no_internet</th>\n      <th>prop_ba</th>\n      <th>prop_services</th>\n      <th>pop_density</th>\n      <th>...</th>\n      <th>Testing_Rate</th>\n      <th>gov_party</th>\n      <th>election_diff</th>\n      <th>Apr-19</th>\n      <th>Mar-19</th>\n      <th>Feb-20</th>\n      <th>Mar-20</th>\n      <th>days_closed</th>\n      <th>yearly_change</th>\n      <th>monthly_change</th>\n    </tr>\n  </thead>\n  <tbody>\n    <tr>\n      <th>count</th>\n      <td>2.260000e+03</td>\n      <td>2.260000e+03</td>\n      <td>2.260000e+03</td>\n      <td>2.260000e+03</td>\n      <td>2.260000e+03</td>\n      <td>2.260000e+03</td>\n      <td>2.260000e+03</td>\n      <td>2.260000e+03</td>\n      <td>2.260000e+03</td>\n      <td>2.260000e+03</td>\n      <td>...</td>\n      <td>2.260000e+03</td>\n      <td>2260.000000</td>\n      <td>2.260000e+03</td>\n      <td>2.260000e+03</td>\n      <td>2.260000e+03</td>\n      <td>2.260000e+03</td>\n      <td>2.260000e+03</td>\n      <td>2.260000e+03</td>\n      <td>2.260000e+03</td>\n      <td>2.260000e+03</td>\n    </tr>\n    <tr>\n      <th>mean</th>\n      <td>1.088654e+05</td>\n      <td>-1.823517e-16</td>\n      <td>3.599874e-16</td>\n      <td>7.859986e-17</td>\n      <td>3.143994e-18</td>\n      <td>8.504505e-16</td>\n      <td>7.152587e-17</td>\n      <td>1.886397e-17</td>\n      <td>1.689897e-16</td>\n      <td>-1.886397e-17</td>\n      <td>...</td>\n      <td>-1.634877e-16</td>\n      <td>0.556637</td>\n      <td>3.772793e-17</td>\n      <td>-4.150073e-16</td>\n      <td>6.602388e-17</td>\n      <td>1.045378e-16</td>\n      <td>-5.061831e-16</td>\n      <td>-1.705617e-16</td>\n      <td>2.986795e-17</td>\n      <td>-1.100398e-16</td>\n    </tr>\n    <tr>\n      <th>std</th>\n      <td>2.674309e+05</td>\n      <td>1.000221e+00</td>\n      <td>1.000221e+00</td>\n      <td>1.000221e+00</td>\n      <td>1.000221e+00</td>\n      <td>1.000221e+00</td>\n      <td>1.000221e+00</td>\n      <td>1.000221e+00</td>\n      <td>1.000221e+00</td>\n      <td>1.000221e+00</td>\n      <td>...</td>\n      <td>1.000221e+00</td>\n      <td>0.496892</td>\n      <td>1.000221e+00</td>\n      <td>1.000221e+00</td>\n      <td>1.000221e+00</td>\n      <td>1.000221e+00</td>\n      <td>1.000221e+00</td>\n      <td>1.000221e+00</td>\n      <td>1.000221e+00</td>\n      <td>1.000221e+00</td>\n    </tr>\n    <tr>\n      <th>min</th>\n      <td>4.590000e+02</td>\n      <td>-2.273373e+00</td>\n      <td>-4.512140e+00</td>\n      <td>-6.531657e-01</td>\n      <td>-6.802470e-01</td>\n      <td>-3.592865e+00</td>\n      <td>-2.279322e+00</td>\n      <td>-1.682501e+00</td>\n      <td>-2.477060e+00</td>\n      <td>-1.610866e-01</td>\n      <td>...</td>\n      <td>-1.051838e+00</td>\n      <td>0.000000</td>\n      <td>-3.799412e+00</td>\n      <td>-1.741680e+00</td>\n      <td>-1.882940e+00</td>\n      <td>-1.683185e+00</td>\n      <td>-1.832830e+00</td>\n      <td>-2.709177e+00</td>\n      <td>-2.540270e+00</td>\n      <td>-2.588353e+00</td>\n    </tr>\n    <tr>\n      <th>25%</th>\n      <td>1.416950e+04</td>\n      <td>-6.667247e-01</td>\n      <td>-4.167850e-01</td>\n      <td>-5.989420e-01</td>\n      <td>-5.217171e-01</td>\n      <td>-6.498845e-01</td>\n      <td>-6.978496e-01</td>\n      <td>-7.084033e-01</td>\n      <td>-5.997382e-01</td>\n      <td>-1.482970e-01</td>\n      <td>...</td>\n      <td>-6.081362e-01</td>\n      <td>0.000000</td>\n      <td>-5.422928e-01</td>\n      <td>-6.628759e-01</td>\n      <td>-6.517974e-01</td>\n      <td>-6.439991e-01</td>\n      <td>-6.475640e-01</td>\n      <td>-3.086970e-01</td>\n      <td>-7.589709e-01</td>\n      <td>-7.415034e-01</td>\n    </tr>\n    <tr>\n      <th>50%</th>\n      <td>3.038850e+04</td>\n      <td>-1.271166e-01</td>\n      <td>3.794700e-01</td>\n      <td>-4.689987e-01</td>\n      <td>-3.713675e-01</td>\n      <td>-7.782835e-03</td>\n      <td>-1.199927e-01</td>\n      <td>-2.616421e-01</td>\n      <td>-1.219710e-01</td>\n      <td>-1.324702e-01</td>\n      <td>...</td>\n      <td>-3.473213e-01</td>\n      <td>1.000000</td>\n      <td>2.130832e-01</td>\n      <td>-2.313542e-01</td>\n      <td>-2.208975e-01</td>\n      <td>-2.398711e-01</td>\n      <td>-1.837642e-01</td>\n      <td>1.966672e-01</td>\n      <td>-6.605347e-02</td>\n      <td>-5.594010e-03</td>\n    </tr>\n    <tr>\n      <th>75%</th>\n      <td>7.944950e+04</td>\n      <td>4.427878e-01</td>\n      <td>7.298116e-01</td>\n      <td>1.191826e-01</td>\n      <td>3.290488e-02</td>\n      <td>5.733211e-01</td>\n      <td>5.772554e-01</td>\n      <td>4.485360e-01</td>\n      <td>4.136571e-01</td>\n      <td>-8.327267e-02</td>\n      <td>...</td>\n      <td>4.255450e-01</td>\n      <td>1.000000</td>\n      <td>7.547766e-01</td>\n      <td>4.159284e-01</td>\n      <td>4.562310e-01</td>\n      <td>3.951871e-01</td>\n      <td>4.346357e-01</td>\n      <td>7.020313e-01</td>\n      <td>6.639279e-01</td>\n      <td>6.233518e-01</td>\n    </tr>\n    <tr>\n      <th>max</th>\n      <td>4.602523e+06</td>\n      <td>6.090030e+00</td>\n      <td>1.037609e+00</td>\n      <td>5.254312e+00</td>\n      <td>6.549744e+00</td>\n      <td>3.959295e+00</td>\n      <td>5.292440e+00</td>\n      <td>5.394969e+00</td>\n      <td>9.063082e+00</td>\n      <td>4.061721e+01</td>\n      <td>...</td>\n      <td>4.767812e+00</td>\n      <td>1.000000</td>\n      <td>1.993568e+00</td>\n      <td>8.686761e+00</td>\n      <td>9.997586e+00</td>\n      <td>8.939607e+00</td>\n      <td>9.040700e+00</td>\n      <td>1.460078e+00</td>\n      <td>4.526804e+00</td>\n      <td>5.927676e+00</td>\n    </tr>\n  </tbody>\n</table>\n<p>8 rows × 22 columns</p>\n</div>"
     },
     "metadata": {},
     "execution_count": 46
    }
   ],
   "source": [
    "train.describe()"
   ]
  },
  {
   "cell_type": "code",
   "execution_count": null,
   "metadata": {},
   "outputs": [],
   "source": []
  }
 ],
 "metadata": {
  "kernelspec": {
   "display_name": "Python 3.8.2 64-bit",
   "language": "python",
   "name": "python38264bit654844e040fc4b1482c093d0bb4bad89"
  },
  "language_info": {
   "codemirror_mode": {
    "name": "ipython",
    "version": 3
   },
   "file_extension": ".py",
   "mimetype": "text/x-python",
   "name": "python",
   "nbconvert_exporter": "python",
   "pygments_lexer": "ipython3",
   "version": "3.8.2-final"
  }
 },
 "nbformat": 4,
 "nbformat_minor": 2
}