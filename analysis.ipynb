{
 "cells": [
  {
   "cell_type": "code",
   "execution_count": 1,
   "metadata": {},
   "outputs": [],
   "source": [
    "# YOUR CODE HERE\n",
    "%load_ext autoreload\n",
    "%autoreload 2\n",
    "import pandas as pd\n",
    "import numpy as np\n",
    "import matplotlib.pyplot as plt\n",
    "import matplotlib.pylab as pltlab\n",
    "import seaborn as sns\n",
    "from sklearn.model_selection import train_test_split\n",
    "import calendar\n",
    "import geopandas as gpd\n",
    "import censusdata\n",
    "import warnings\n",
    "import pipeline as pipe\n",
    "warnings.filterwarnings('ignore')\n",
    "\n",
    "%matplotlib inline\n",
    "\n",
    "sns.set(rc={'figure.figsize':(11, 4)})"
   ]
  },
  {
   "cell_type": "code",
   "execution_count": 2,
   "metadata": {},
   "outputs": [],
   "source": [
    "data = pd.read_pickle('data/final_dataset.pk1')"
   ]
  },
  {
   "cell_type": "code",
   "execution_count": 3,
   "metadata": {},
   "outputs": [
    {
     "output_type": "execute_result",
     "data": {
      "text/plain": "                             name  total_pop  median_income state county  \\\n0  Washington County, Mississippi      47086        30834.0    28    151   \n1       Perry County, Mississippi      12028        39007.0    28    111   \n2     Choctaw County, Mississippi       8321        37203.0    28    019   \n3    Itawamba County, Mississippi      23480        40510.0    28    057   \n4     Carroll County, Mississippi      10129        43060.0    28    015   \n\n  county_name   state_name  prop_white  prop_black  prop_hisp  ...     FIPS  \\\n0  Washington  Mississippi    0.256913    0.721701   0.015482  ...  28151.0   \n1       Perry  Mississippi    0.787745    0.196874   0.015048  ...  28111.0   \n2     Choctaw  Mississippi    0.676722    0.311982   0.003966  ...  28019.0   \n3    Itawamba  Mississippi    0.909114    0.071593   0.015332  ...  28057.0   \n4     Carroll  Mississippi    0.643992    0.345839   0.002863  ...  28015.0   \n\n   covid_cases  Testing_Rate  gov_party election_diff  Apr-19  Mar-19  Feb-20  \\\n0           77   2291.374085          1     -0.364695     6.4     7.5     7.4   \n1           27   2291.374085          1      0.536635     5.7     6.2     6.8   \n2           13   2291.374085          1      0.386224     4.8     5.3     5.4   \n3           57   2291.374085          1      0.755161     4.1     4.4     4.7   \n4           38   2291.374085          1      0.383321     5.5     5.8     6.2   \n\n   Mar-20  days_closed  \n0       7         17.0  \n1     6.3         17.0  \n2       5         17.0  \n3     4.7         17.0  \n4       6         17.0  \n\n[5 rows x 25 columns]",
      "text/html": "<div>\n<style scoped>\n    .dataframe tbody tr th:only-of-type {\n        vertical-align: middle;\n    }\n\n    .dataframe tbody tr th {\n        vertical-align: top;\n    }\n\n    .dataframe thead th {\n        text-align: right;\n    }\n</style>\n<table border=\"1\" class=\"dataframe\">\n  <thead>\n    <tr style=\"text-align: right;\">\n      <th></th>\n      <th>name</th>\n      <th>total_pop</th>\n      <th>median_income</th>\n      <th>state</th>\n      <th>county</th>\n      <th>county_name</th>\n      <th>state_name</th>\n      <th>prop_white</th>\n      <th>prop_black</th>\n      <th>prop_hisp</th>\n      <th>...</th>\n      <th>FIPS</th>\n      <th>covid_cases</th>\n      <th>Testing_Rate</th>\n      <th>gov_party</th>\n      <th>election_diff</th>\n      <th>Apr-19</th>\n      <th>Mar-19</th>\n      <th>Feb-20</th>\n      <th>Mar-20</th>\n      <th>days_closed</th>\n    </tr>\n  </thead>\n  <tbody>\n    <tr>\n      <th>0</th>\n      <td>Washington County, Mississippi</td>\n      <td>47086</td>\n      <td>30834.0</td>\n      <td>28</td>\n      <td>151</td>\n      <td>Washington</td>\n      <td>Mississippi</td>\n      <td>0.256913</td>\n      <td>0.721701</td>\n      <td>0.015482</td>\n      <td>...</td>\n      <td>28151.0</td>\n      <td>77</td>\n      <td>2291.374085</td>\n      <td>1</td>\n      <td>-0.364695</td>\n      <td>6.4</td>\n      <td>7.5</td>\n      <td>7.4</td>\n      <td>7</td>\n      <td>17.0</td>\n    </tr>\n    <tr>\n      <th>1</th>\n      <td>Perry County, Mississippi</td>\n      <td>12028</td>\n      <td>39007.0</td>\n      <td>28</td>\n      <td>111</td>\n      <td>Perry</td>\n      <td>Mississippi</td>\n      <td>0.787745</td>\n      <td>0.196874</td>\n      <td>0.015048</td>\n      <td>...</td>\n      <td>28111.0</td>\n      <td>27</td>\n      <td>2291.374085</td>\n      <td>1</td>\n      <td>0.536635</td>\n      <td>5.7</td>\n      <td>6.2</td>\n      <td>6.8</td>\n      <td>6.3</td>\n      <td>17.0</td>\n    </tr>\n    <tr>\n      <th>2</th>\n      <td>Choctaw County, Mississippi</td>\n      <td>8321</td>\n      <td>37203.0</td>\n      <td>28</td>\n      <td>019</td>\n      <td>Choctaw</td>\n      <td>Mississippi</td>\n      <td>0.676722</td>\n      <td>0.311982</td>\n      <td>0.003966</td>\n      <td>...</td>\n      <td>28019.0</td>\n      <td>13</td>\n      <td>2291.374085</td>\n      <td>1</td>\n      <td>0.386224</td>\n      <td>4.8</td>\n      <td>5.3</td>\n      <td>5.4</td>\n      <td>5</td>\n      <td>17.0</td>\n    </tr>\n    <tr>\n      <th>3</th>\n      <td>Itawamba County, Mississippi</td>\n      <td>23480</td>\n      <td>40510.0</td>\n      <td>28</td>\n      <td>057</td>\n      <td>Itawamba</td>\n      <td>Mississippi</td>\n      <td>0.909114</td>\n      <td>0.071593</td>\n      <td>0.015332</td>\n      <td>...</td>\n      <td>28057.0</td>\n      <td>57</td>\n      <td>2291.374085</td>\n      <td>1</td>\n      <td>0.755161</td>\n      <td>4.1</td>\n      <td>4.4</td>\n      <td>4.7</td>\n      <td>4.7</td>\n      <td>17.0</td>\n    </tr>\n    <tr>\n      <th>4</th>\n      <td>Carroll County, Mississippi</td>\n      <td>10129</td>\n      <td>43060.0</td>\n      <td>28</td>\n      <td>015</td>\n      <td>Carroll</td>\n      <td>Mississippi</td>\n      <td>0.643992</td>\n      <td>0.345839</td>\n      <td>0.002863</td>\n      <td>...</td>\n      <td>28015.0</td>\n      <td>38</td>\n      <td>2291.374085</td>\n      <td>1</td>\n      <td>0.383321</td>\n      <td>5.5</td>\n      <td>5.8</td>\n      <td>6.2</td>\n      <td>6</td>\n      <td>17.0</td>\n    </tr>\n  </tbody>\n</table>\n<p>5 rows × 25 columns</p>\n</div>"
     },
     "metadata": {},
     "execution_count": 3
    }
   ],
   "source": [
    "data.head()"
   ]
  },
  {
   "cell_type": "code",
   "execution_count": 4,
   "metadata": {},
   "outputs": [
    {
     "output_type": "stream",
     "name": "stdout",
     "text": "total_pop  median_income   prop_white   prop_black    prop_hisp  \\\ncount  2.826000e+03    2825.000000  2826.000000  2826.000000  2826.000000   \nmean   1.117590e+05   51714.241416     0.827329     0.098748     0.091962   \nstd    3.414925e+05   13821.224638     0.164131     0.149708     0.135249   \nmin    4.180000e+02   20188.000000     0.093534     0.000000     0.000000   \n25%    1.412200e+04   42491.000000     0.757614     0.008110     0.021500   \n50%    3.013550e+04   49936.000000     0.889050     0.028182     0.041568   \n75%    7.725500e+04   57886.000000     0.947572     0.117748     0.095686   \nmax    1.009805e+07  136268.000000     0.997743     0.874123     0.990688   \n\n       log_med_income  prop_no_internet      prop_ba  prop_services  \\\ncount     2825.000000       2826.000000  2826.000000    2825.000000   \nmean        10.821023          0.225514     0.217787       0.083571   \nstd          0.251809          0.086132     0.096556       0.034479   \nmin          9.912844          0.027967     0.053803       0.000000   \n25%         10.657048          0.165563     0.149494       0.062781   \n50%         10.818497          0.214964     0.192582       0.079282   \n75%         10.966231          0.274592     0.261927       0.097530   \nmax         11.822379          0.684243     0.785314       0.387533   \n\n               FIPS    covid_cases  Testing_Rate    gov_party  election_diff  \\\ncount   2826.000000    2826.000000   2826.000000  2826.000000    2826.000000   \nmean   30331.863765     375.589526   1890.819417     0.556263       0.296498   \nstd    15162.372200    3598.993772    859.761925     0.496912       0.304117   \nmin     1001.000000       0.000000    986.245241     0.000000      -0.867763   \n25%    18137.500000       6.000000   1369.571514     0.000000       0.128959   \n50%    29104.000000      23.000000   1594.896734     1.000000       0.360888   \n75%    45050.500000      98.000000   2262.597463     1.000000       0.523936   \nmax    56043.000000  167478.000000   6014.002781     1.000000       0.909747   \n\n       days_closed  \ncount  1929.000000  \nmean     22.266459  \nstd       9.072753  \nmin       0.000000  \n25%      21.000000  \n50%      26.000000  \n75%      27.000000  \nmax      33.000000  \n                  total_pop  median_income  prop_white  prop_black  prop_hisp  \\\ntotal_pop          1.000000       0.269932   -0.186771    0.056704   0.210049   \nmedian_income      0.269932       1.000000    0.166882   -0.284362   0.069853   \nprop_white        -0.186771       0.166882    1.000000   -0.857407  -0.066447   \nprop_black         0.056704      -0.284362   -0.857407    1.000000  -0.121514   \nprop_hisp          0.210049       0.069853   -0.066447   -0.121514   1.000000   \nlog_med_income     0.256607       0.978473    0.241223   -0.351276   0.064081   \nprop_no_internet  -0.263802      -0.759246   -0.298780    0.375591  -0.019595   \nprop_ba            0.331352       0.714795   -0.002856   -0.104907   0.008376   \nprop_services      0.126641       0.075720   -0.105423   -0.041102   0.115680   \nFIPS              -0.059449       0.089720    0.109872   -0.136054   0.072019   \ncovid_cases        0.367850       0.157046   -0.101382    0.039934   0.079770   \nTesting_Rate       0.032034       0.053950    0.001674   -0.023833  -0.069292   \ngov_party         -0.061390      -0.159998   -0.075027    0.124429   0.022418   \nelection_diff     -0.342477      -0.194611    0.570168   -0.451889  -0.186385   \ndays_closed        0.154820       0.117117    0.038838   -0.058482   0.135057   \n\n                  log_med_income  prop_no_internet   prop_ba  prop_services  \\\ntotal_pop               0.256607         -0.263802  0.331352       0.126641   \nmedian_income           0.978473         -0.759246  0.714795       0.075720   \nprop_white              0.241223         -0.298780 -0.002856      -0.105423   \nprop_black             -0.351276          0.375591 -0.104907      -0.041102   \nprop_hisp               0.064081         -0.019595  0.008376       0.115680   \nlog_med_income          1.000000         -0.803758  0.684522       0.085852   \nprop_no_internet       -0.803758          1.000000 -0.705181      -0.247512   \nprop_ba                 0.684522         -0.705181  1.000000       0.336952   \nprop_services           0.085852         -0.247512  0.336952       1.000000   \nFIPS                    0.103823         -0.057855  0.040001      -0.000470   \ncovid_cases             0.138569         -0.096465  0.189062       0.031413   \nTesting_Rate            0.040422         -0.003609  0.071333       0.047514   \ngov_party              -0.159384          0.184097 -0.184716      -0.138580   \nelection_diff          -0.138177          0.158552 -0.481903      -0.327102   \ndays_closed             0.117439         -0.170950  0.094331       0.184715   \n\n                      FIPS  covid_cases  Testing_Rate  gov_party  \\\ntotal_pop        -0.059449     0.367850      0.032034  -0.061390   \nmedian_income     0.089720     0.157046      0.053950  -0.159998   \nprop_white        0.109872    -0.101382      0.001674  -0.075027   \nprop_black       -0.136054     0.039934     -0.023833   0.124429   \nprop_hisp         0.072019     0.079770     -0.069292   0.022418   \nlog_med_income    0.103823     0.138569      0.040422  -0.159384   \nprop_no_internet -0.057855    -0.096465     -0.003609   0.184097   \nprop_ba           0.040001     0.189062      0.071333  -0.184716   \nprop_services    -0.000470     0.031413      0.047514  -0.138580   \nFIPS              1.000000    -0.005803      0.076656  -0.022870   \ncovid_cases      -0.005803     1.000000      0.153045  -0.060156   \nTesting_Rate      0.076656     0.153045      1.000000  -0.088568   \ngov_party        -0.022870    -0.060156     -0.088568   1.000000   \nelection_diff     0.043857    -0.185643     -0.088269   0.218061   \ndays_closed      -0.048736     0.072886      0.011088  -0.474009   \n\n                  election_diff  days_closed  \ntotal_pop             -0.342477     0.154820  \nmedian_income         -0.194611     0.117117  \nprop_white             0.570168     0.038838  \nprop_black            -0.451889    -0.058482  \nprop_hisp             -0.186385     0.135057  \nlog_med_income        -0.138177     0.117439  \nprop_no_internet       0.158552    -0.170950  \nprop_ba               -0.481903     0.094331  \nprop_services         -0.327102     0.184715  \nFIPS                   0.043857    -0.048736  \ncovid_cases           -0.185643     0.072886  \nTesting_Rate          -0.088269     0.011088  \ngov_party              0.218061    -0.474009  \nelection_diff          1.000000    -0.224394  \ndays_closed           -0.224394     1.000000  \n"
    }
   ],
   "source": [
    "pipe.get_summary_stats(data)"
   ]
  },
  {
   "cell_type": "code",
   "execution_count": null,
   "metadata": {},
   "outputs": [],
   "source": []
  }
 ],
 "metadata": {
  "kernelspec": {
   "display_name": "Python 3.8.2 64-bit",
   "language": "python",
   "name": "python38264bit654844e040fc4b1482c093d0bb4bad89"
  },
  "language_info": {
   "codemirror_mode": {
    "name": "ipython",
    "version": 3
   },
   "file_extension": ".py",
   "mimetype": "text/x-python",
   "name": "python",
   "nbconvert_exporter": "python",
   "pygments_lexer": "ipython3",
   "version": "3.8.2-final"
  }
 },
 "nbformat": 4,
 "nbformat_minor": 2
}