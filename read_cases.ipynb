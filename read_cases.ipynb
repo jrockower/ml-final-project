{
 "cells": [
  {
   "cell_type": "code",
   "execution_count": 1,
   "metadata": {},
   "outputs": [],
   "source": [
    "import pandas as pd"
   ]
  },
  {
   "cell_type": "code",
   "execution_count": 2,
   "metadata": {},
   "outputs": [],
   "source": [
    "county_cases = pd.read_csv(\"./data/jhu/county_cases_04-30-2020.csv\")"
   ]
  },
  {
   "cell_type": "code",
   "execution_count": 8,
   "metadata": {},
   "outputs": [],
   "source": [
    "county_cases.columns = ['FIPS', 'county', 'state', 'country_region', 'last_update', 'lat', 'long', 'confirmed', 'deaths', 'recovered', 'active', 'combined_key']\n",
    "county_cases = county_cases[county_cases['country_region'] == 'US']"
   ]
  },
  {
   "cell_type": "code",
   "execution_count": 15,
   "metadata": {},
   "outputs": [
    {
     "output_type": "execute_result",
     "data": {
      "text/plain": "      FIPS     county           state country_region          last_update  \\\n0  45001.0  Abbeville  South Carolina             US  2020-05-01 02:32:28   \n1  22001.0     Acadia       Louisiana             US  2020-05-01 02:32:28   \n2  51001.0   Accomack        Virginia             US  2020-05-01 02:32:28   \n3  16001.0        Ada           Idaho             US  2020-05-01 02:32:28   \n4  19001.0      Adair            Iowa             US  2020-05-01 02:32:28   \n\n         lat        long  confirmed  deaths  recovered  active  \\\n0  34.223334  -82.461707         31       0          0      31   \n1  30.295065  -92.414197        130      10          0     120   \n2  37.767072  -75.632346        264       4          0     260   \n3  43.452658 -116.241552        671      16          0     655   \n4  41.330756  -94.471059          1       0          0       1   \n\n                    combined_key  \n0  Abbeville, South Carolina, US  \n1          Acadia, Louisiana, US  \n2         Accomack, Virginia, US  \n3                 Ada, Idaho, US  \n4                Adair, Iowa, US  ",
      "text/html": "<div>\n<style scoped>\n    .dataframe tbody tr th:only-of-type {\n        vertical-align: middle;\n    }\n\n    .dataframe tbody tr th {\n        vertical-align: top;\n    }\n\n    .dataframe thead th {\n        text-align: right;\n    }\n</style>\n<table border=\"1\" class=\"dataframe\">\n  <thead>\n    <tr style=\"text-align: right;\">\n      <th></th>\n      <th>FIPS</th>\n      <th>county</th>\n      <th>state</th>\n      <th>country_region</th>\n      <th>last_update</th>\n      <th>lat</th>\n      <th>long</th>\n      <th>confirmed</th>\n      <th>deaths</th>\n      <th>recovered</th>\n      <th>active</th>\n      <th>combined_key</th>\n    </tr>\n  </thead>\n  <tbody>\n    <tr>\n      <th>0</th>\n      <td>45001.0</td>\n      <td>Abbeville</td>\n      <td>South Carolina</td>\n      <td>US</td>\n      <td>2020-05-01 02:32:28</td>\n      <td>34.223334</td>\n      <td>-82.461707</td>\n      <td>31</td>\n      <td>0</td>\n      <td>0</td>\n      <td>31</td>\n      <td>Abbeville, South Carolina, US</td>\n    </tr>\n    <tr>\n      <th>1</th>\n      <td>22001.0</td>\n      <td>Acadia</td>\n      <td>Louisiana</td>\n      <td>US</td>\n      <td>2020-05-01 02:32:28</td>\n      <td>30.295065</td>\n      <td>-92.414197</td>\n      <td>130</td>\n      <td>10</td>\n      <td>0</td>\n      <td>120</td>\n      <td>Acadia, Louisiana, US</td>\n    </tr>\n    <tr>\n      <th>2</th>\n      <td>51001.0</td>\n      <td>Accomack</td>\n      <td>Virginia</td>\n      <td>US</td>\n      <td>2020-05-01 02:32:28</td>\n      <td>37.767072</td>\n      <td>-75.632346</td>\n      <td>264</td>\n      <td>4</td>\n      <td>0</td>\n      <td>260</td>\n      <td>Accomack, Virginia, US</td>\n    </tr>\n    <tr>\n      <th>3</th>\n      <td>16001.0</td>\n      <td>Ada</td>\n      <td>Idaho</td>\n      <td>US</td>\n      <td>2020-05-01 02:32:28</td>\n      <td>43.452658</td>\n      <td>-116.241552</td>\n      <td>671</td>\n      <td>16</td>\n      <td>0</td>\n      <td>655</td>\n      <td>Ada, Idaho, US</td>\n    </tr>\n    <tr>\n      <th>4</th>\n      <td>19001.0</td>\n      <td>Adair</td>\n      <td>Iowa</td>\n      <td>US</td>\n      <td>2020-05-01 02:32:28</td>\n      <td>41.330756</td>\n      <td>-94.471059</td>\n      <td>1</td>\n      <td>0</td>\n      <td>0</td>\n      <td>1</td>\n      <td>Adair, Iowa, US</td>\n    </tr>\n  </tbody>\n</table>\n</div>"
     },
     "metadata": {},
     "execution_count": 15
    }
   ],
   "source": [
    "county_cases.head()"
   ]
  },
  {
   "cell_type": "code",
   "execution_count": 16,
   "metadata": {},
   "outputs": [],
   "source": [
    "geocodes = pd.read_excel('./data/census/all-geocodes-v2018.xlsx', skiprows=4, dtype=str)\n",
    "geocodes.columns = ['summary_level', 'state_code', 'county_code', 'county_subdivision', 'place_code', 'city_code', 'area_name']"
   ]
  },
  {
   "cell_type": "code",
   "execution_count": 19,
   "metadata": {},
   "outputs": [
    {
     "output_type": "execute_result",
     "data": {
      "text/plain": "  summary_level state_code county_code county_subdivision place_code  \\\n0           010         00         000              00000      00000   \n1           040         01         000              00000      00000   \n2           050         01         001              00000      00000   \n3           050         01         003              00000      00000   \n4           050         01         005              00000      00000   \n\n  city_code       area_name    FIPS  \n0     00000   United States     0.0  \n1     00000         Alabama  1000.0  \n2     00000  Autauga County  1001.0  \n3     00000  Baldwin County  1003.0  \n4     00000  Barbour County  1005.0  ",
      "text/html": "<div>\n<style scoped>\n    .dataframe tbody tr th:only-of-type {\n        vertical-align: middle;\n    }\n\n    .dataframe tbody tr th {\n        vertical-align: top;\n    }\n\n    .dataframe thead th {\n        text-align: right;\n    }\n</style>\n<table border=\"1\" class=\"dataframe\">\n  <thead>\n    <tr style=\"text-align: right;\">\n      <th></th>\n      <th>summary_level</th>\n      <th>state_code</th>\n      <th>county_code</th>\n      <th>county_subdivision</th>\n      <th>place_code</th>\n      <th>city_code</th>\n      <th>area_name</th>\n      <th>FIPS</th>\n    </tr>\n  </thead>\n  <tbody>\n    <tr>\n      <th>0</th>\n      <td>010</td>\n      <td>00</td>\n      <td>000</td>\n      <td>00000</td>\n      <td>00000</td>\n      <td>00000</td>\n      <td>United States</td>\n      <td>0.0</td>\n    </tr>\n    <tr>\n      <th>1</th>\n      <td>040</td>\n      <td>01</td>\n      <td>000</td>\n      <td>00000</td>\n      <td>00000</td>\n      <td>00000</td>\n      <td>Alabama</td>\n      <td>1000.0</td>\n    </tr>\n    <tr>\n      <th>2</th>\n      <td>050</td>\n      <td>01</td>\n      <td>001</td>\n      <td>00000</td>\n      <td>00000</td>\n      <td>00000</td>\n      <td>Autauga County</td>\n      <td>1001.0</td>\n    </tr>\n    <tr>\n      <th>3</th>\n      <td>050</td>\n      <td>01</td>\n      <td>003</td>\n      <td>00000</td>\n      <td>00000</td>\n      <td>00000</td>\n      <td>Baldwin County</td>\n      <td>1003.0</td>\n    </tr>\n    <tr>\n      <th>4</th>\n      <td>050</td>\n      <td>01</td>\n      <td>005</td>\n      <td>00000</td>\n      <td>00000</td>\n      <td>00000</td>\n      <td>Barbour County</td>\n      <td>1005.0</td>\n    </tr>\n  </tbody>\n</table>\n</div>"
     },
     "metadata": {},
     "execution_count": 19
    }
   ],
   "source": [
    "geocodes = geocodes[geocodes['county_code'] != '000']\n",
    "\n",
    "geocodes['FIPS'] = (geocodes['state_code'] + geocodes['county_code']).astype(float)\n",
    "geocodes.head()"
   ]
  },
  {
   "cell_type": "code",
   "execution_count": null,
   "metadata": {},
   "outputs": [],
   "source": []
  }
 ],
 "metadata": {
  "language_info": {
   "codemirror_mode": {
    "name": "ipython",
    "version": 3
   },
   "file_extension": ".py",
   "mimetype": "text/x-python",
   "name": "python",
   "nbconvert_exporter": "python",
   "pygments_lexer": "ipython3",
   "version": "3.7.6-final"
  },
  "orig_nbformat": 2,
  "kernelspec": {
   "name": "python37664bitbaseconda033ea406cc5d4909b0b984c99b561620",
   "display_name": "Python 3.7.6 64-bit ('base': conda)"
  }
 },
 "nbformat": 4,
 "nbformat_minor": 2
}